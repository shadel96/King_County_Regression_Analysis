{
 "cells": [
  {
   "cell_type": "markdown",
   "metadata": {},
   "source": [
    "# ALT"
   ]
  },
  {
   "cell_type": "markdown",
   "metadata": {},
   "source": [
    "### Import Modules"
   ]
  },
  {
   "cell_type": "code",
   "execution_count": 1,
   "metadata": {},
   "outputs": [],
   "source": [
    "import pandas as pd\n",
    "import matplotlib.pyplot as plt\n",
    "import numpy as np\n",
    "import seaborn as sns\n",
    "\n",
    "from statsmodels.formula.api import ols\n",
    "from statsmodels.stats.outliers_influence import variance_inflation_factor\n",
    "import statsmodels.api as sm\n",
    "import scipy.stats as stats\n",
    "from sklearn.model_selection import train_test_split\n",
    "\n",
    "from sklearn.linear_model import LinearRegression\n",
    "from sklearn.feature_selection import RFECV\n",
    "from sklearn.preprocessing import StandardScaler\n",
    "from sklearn.model_selection import cross_validate, ShuffleSplit\n",
    "\n",
    "from sklearn.metrics import mean_squared_error\n",
    "from sklearn.dummy import DummyRegressor"
   ]
  },
  {
   "cell_type": "markdown",
   "metadata": {},
   "source": [
    "### Import Prepared Data from kc_preprocessing_exploring.ipynb"
   ]
  },
  {
   "cell_type": "markdown",
   "metadata": {},
   "source": [
    "We have already preprocessed our data in the kc_kc_preprocessing_exploring notebook:\n",
    "\n",
    "[Preprocessing Notebook](./kc_preprocessing_exploring.ipynb)"
   ]
  },
  {
   "cell_type": "code",
   "execution_count": 2,
   "metadata": {},
   "outputs": [],
   "source": [
    "df = pd.read_csv('./data/preprocessed_alt.csv', index_col = 0)"
   ]
  },
  {
   "cell_type": "code",
   "execution_count": 3,
   "metadata": {
    "scrolled": false
   },
   "outputs": [
    {
     "name": "stdout",
     "output_type": "stream",
     "text": [
      "<class 'pandas.core.frame.DataFrame'>\n",
      "Int64Index: 21532 entries, 0 to 21596\n",
      "Data columns (total 10 columns):\n",
      " #   Column          Non-Null Count  Dtype  \n",
      "---  ------          --------------  -----  \n",
      " 0   price           21532 non-null  float64\n",
      " 1   sqft_living     21532 non-null  float64\n",
      " 2   sqft_lot        21532 non-null  float64\n",
      " 3   yr_built        21532 non-null  float64\n",
      " 4   bedrooms        21532 non-null  float64\n",
      " 5   bathrooms       21532 non-null  float64\n",
      " 6   floors          21532 non-null  float64\n",
      " 7   renovated_2000  21532 non-null  int64  \n",
      " 8   waterfront      21532 non-null  int64  \n",
      " 9   has_basement    21532 non-null  int64  \n",
      "dtypes: float64(7), int64(3)\n",
      "memory usage: 1.8 MB\n"
     ]
    }
   ],
   "source": [
    "df.info()"
   ]
  },
  {
   "cell_type": "code",
   "execution_count": 4,
   "metadata": {
    "scrolled": false
   },
   "outputs": [
    {
     "data": {
      "text/plain": [
       "['price',\n",
       " 'sqft_living',\n",
       " 'sqft_lot',\n",
       " 'yr_built',\n",
       " 'bedrooms',\n",
       " 'bathrooms',\n",
       " 'floors',\n",
       " 'renovated_2000',\n",
       " 'waterfront',\n",
       " 'has_basement']"
      ]
     },
     "execution_count": 4,
     "metadata": {},
     "output_type": "execute_result"
    }
   ],
   "source": [
    "subs = [(' ', '_'),('.','_'),(\"'\",\"\"),('™', ''), ('®',''),\n",
    "        ('+','plus'), ('½','half'), ('-','_')\n",
    "       ]\n",
    "def col_formatting(col):\n",
    "    for old, new in subs:\n",
    "        col = col.replace(old,new)\n",
    "    return col\n",
    "\n",
    "df.columns = [col_formatting(col) for col in df.columns]\n",
    "\n",
    "list(df.columns)"
   ]
  },
  {
   "cell_type": "markdown",
   "metadata": {},
   "source": [
    "## Split, Train and Test Data\n",
    "\n",
    "Now that we have a complete preprocessed dataset, we need to split the data into train and test datasets, as well as identify the feature we are testing for: price."
   ]
  },
  {
   "cell_type": "code",
   "execution_count": 5,
   "metadata": {},
   "outputs": [
    {
     "data": {
      "text/plain": [
       "((16149, 9), (5383, 9), (16149,), (5383,))"
      ]
     },
     "execution_count": 5,
     "metadata": {},
     "output_type": "execute_result"
    }
   ],
   "source": [
    "X = df.drop(['price'], axis=1)\n",
    "y = df['price']\n",
    "\n",
    "X_train, X_test, y_train, y_test = train_test_split(X, y, random_state=42)\n",
    "\n",
    "#check size of each\n",
    "X_train.shape, X_test.shape, y_train.shape, y_test.shape"
   ]
  },
  {
   "cell_type": "code",
   "execution_count": 6,
   "metadata": {
    "scrolled": false
   },
   "outputs": [
    {
     "name": "stderr",
     "output_type": "stream",
     "text": [
      "C:\\Users\\moola\\anaconda3\\lib\\site-packages\\statsmodels\\tsa\\tsatools.py:142: FutureWarning: In a future version of pandas all arguments of concat except for the argument 'objs' will be keyword-only\n",
      "  x = pd.concat(x[::order], 1)\n"
     ]
    },
    {
     "data": {
      "text/html": [
       "<table class=\"simpletable\">\n",
       "<caption>OLS Regression Results</caption>\n",
       "<tr>\n",
       "  <th>Dep. Variable:</th>          <td>price</td>      <th>  R-squared:         </th>  <td>   0.483</td>  \n",
       "</tr>\n",
       "<tr>\n",
       "  <th>Model:</th>                   <td>OLS</td>       <th>  Adj. R-squared:    </th>  <td>   0.483</td>  \n",
       "</tr>\n",
       "<tr>\n",
       "  <th>Method:</th>             <td>Least Squares</td>  <th>  F-statistic:       </th>  <td>   1677.</td>  \n",
       "</tr>\n",
       "<tr>\n",
       "  <th>Date:</th>             <td>Thu, 12 May 2022</td> <th>  Prob (F-statistic):</th>   <td>  0.00</td>   \n",
       "</tr>\n",
       "<tr>\n",
       "  <th>Time:</th>                 <td>19:38:55</td>     <th>  Log-Likelihood:    </th> <td>-2.2447e+05</td>\n",
       "</tr>\n",
       "<tr>\n",
       "  <th>No. Observations:</th>      <td> 16149</td>      <th>  AIC:               </th>  <td>4.490e+05</td> \n",
       "</tr>\n",
       "<tr>\n",
       "  <th>Df Residuals:</th>          <td> 16139</td>      <th>  BIC:               </th>  <td>4.490e+05</td> \n",
       "</tr>\n",
       "<tr>\n",
       "  <th>Df Model:</th>              <td>     9</td>      <th>                     </th>      <td> </td>     \n",
       "</tr>\n",
       "<tr>\n",
       "  <th>Covariance Type:</th>      <td>nonrobust</td>    <th>                     </th>      <td> </td>     \n",
       "</tr>\n",
       "</table>\n",
       "<table class=\"simpletable\">\n",
       "<tr>\n",
       "         <td></td>           <th>coef</th>     <th>std err</th>      <th>t</th>      <th>P>|t|</th>  <th>[0.025</th>    <th>0.975]</th>  \n",
       "</tr>\n",
       "<tr>\n",
       "  <th>const</th>          <td> 5.338e+05</td> <td> 2897.166</td> <td>  184.256</td> <td> 0.000</td> <td> 5.28e+05</td> <td> 5.39e+05</td>\n",
       "</tr>\n",
       "<tr>\n",
       "  <th>sqft_living</th>    <td> 2.542e+05</td> <td> 4101.627</td> <td>   61.986</td> <td> 0.000</td> <td> 2.46e+05</td> <td> 2.62e+05</td>\n",
       "</tr>\n",
       "<tr>\n",
       "  <th>sqft_lot</th>       <td>-1.525e+04</td> <td> 2567.890</td> <td>   -5.937</td> <td> 0.000</td> <td>-2.03e+04</td> <td>-1.02e+04</td>\n",
       "</tr>\n",
       "<tr>\n",
       "  <th>yr_built</th>       <td> -8.45e+04</td> <td> 2677.458</td> <td>  -31.559</td> <td> 0.000</td> <td>-8.97e+04</td> <td>-7.92e+04</td>\n",
       "</tr>\n",
       "<tr>\n",
       "  <th>bedrooms</th>       <td>-6.007e+04</td> <td> 2778.273</td> <td>  -21.622</td> <td> 0.000</td> <td>-6.55e+04</td> <td>-5.46e+04</td>\n",
       "</tr>\n",
       "<tr>\n",
       "  <th>bathrooms</th>      <td> 3.325e+04</td> <td> 3805.913</td> <td>    8.737</td> <td> 0.000</td> <td> 2.58e+04</td> <td> 4.07e+04</td>\n",
       "</tr>\n",
       "<tr>\n",
       "  <th>floors</th>         <td> 2.808e+04</td> <td> 3003.755</td> <td>    9.350</td> <td> 0.000</td> <td> 2.22e+04</td> <td>  3.4e+04</td>\n",
       "</tr>\n",
       "<tr>\n",
       "  <th>renovated_2000</th> <td> 1.107e+05</td> <td> 1.62e+04</td> <td>    6.837</td> <td> 0.000</td> <td>  7.9e+04</td> <td> 1.42e+05</td>\n",
       "</tr>\n",
       "<tr>\n",
       "  <th>waterfront</th>     <td> 9.519e+05</td> <td>  2.5e+04</td> <td>   38.060</td> <td> 0.000</td> <td> 9.03e+05</td> <td>    1e+06</td>\n",
       "</tr>\n",
       "<tr>\n",
       "  <th>has_basement</th>   <td>-8307.4492</td> <td> 5202.750</td> <td>   -1.597</td> <td> 0.110</td> <td>-1.85e+04</td> <td> 1890.518</td>\n",
       "</tr>\n",
       "</table>\n",
       "<table class=\"simpletable\">\n",
       "<tr>\n",
       "  <th>Omnibus:</th>       <td>12860.582</td> <th>  Durbin-Watson:     </th>  <td>   1.996</td> \n",
       "</tr>\n",
       "<tr>\n",
       "  <th>Prob(Omnibus):</th>  <td> 0.000</td>   <th>  Jarque-Bera (JB):  </th> <td>850975.749</td>\n",
       "</tr>\n",
       "<tr>\n",
       "  <th>Skew:</th>           <td> 3.336</td>   <th>  Prob(JB):          </th>  <td>    0.00</td> \n",
       "</tr>\n",
       "<tr>\n",
       "  <th>Kurtosis:</th>       <td>37.931</td>   <th>  Cond. No.          </th>  <td>    20.7</td> \n",
       "</tr>\n",
       "</table><br/><br/>Notes:<br/>[1] Standard Errors assume that the covariance matrix of the errors is correctly specified."
      ],
      "text/plain": [
       "<class 'statsmodels.iolib.summary.Summary'>\n",
       "\"\"\"\n",
       "                            OLS Regression Results                            \n",
       "==============================================================================\n",
       "Dep. Variable:                  price   R-squared:                       0.483\n",
       "Model:                            OLS   Adj. R-squared:                  0.483\n",
       "Method:                 Least Squares   F-statistic:                     1677.\n",
       "Date:                Thu, 12 May 2022   Prob (F-statistic):               0.00\n",
       "Time:                        19:38:55   Log-Likelihood:            -2.2447e+05\n",
       "No. Observations:               16149   AIC:                         4.490e+05\n",
       "Df Residuals:                   16139   BIC:                         4.490e+05\n",
       "Df Model:                           9                                         \n",
       "Covariance Type:            nonrobust                                         \n",
       "==================================================================================\n",
       "                     coef    std err          t      P>|t|      [0.025      0.975]\n",
       "----------------------------------------------------------------------------------\n",
       "const           5.338e+05   2897.166    184.256      0.000    5.28e+05    5.39e+05\n",
       "sqft_living     2.542e+05   4101.627     61.986      0.000    2.46e+05    2.62e+05\n",
       "sqft_lot       -1.525e+04   2567.890     -5.937      0.000   -2.03e+04   -1.02e+04\n",
       "yr_built        -8.45e+04   2677.458    -31.559      0.000   -8.97e+04   -7.92e+04\n",
       "bedrooms       -6.007e+04   2778.273    -21.622      0.000   -6.55e+04   -5.46e+04\n",
       "bathrooms       3.325e+04   3805.913      8.737      0.000    2.58e+04    4.07e+04\n",
       "floors          2.808e+04   3003.755      9.350      0.000    2.22e+04     3.4e+04\n",
       "renovated_2000  1.107e+05   1.62e+04      6.837      0.000     7.9e+04    1.42e+05\n",
       "waterfront      9.519e+05    2.5e+04     38.060      0.000    9.03e+05       1e+06\n",
       "has_basement   -8307.4492   5202.750     -1.597      0.110   -1.85e+04    1890.518\n",
       "==============================================================================\n",
       "Omnibus:                    12860.582   Durbin-Watson:                   1.996\n",
       "Prob(Omnibus):                  0.000   Jarque-Bera (JB):           850975.749\n",
       "Skew:                           3.336   Prob(JB):                         0.00\n",
       "Kurtosis:                      37.931   Cond. No.                         20.7\n",
       "==============================================================================\n",
       "\n",
       "Notes:\n",
       "[1] Standard Errors assume that the covariance matrix of the errors is correctly specified.\n",
       "\"\"\""
      ]
     },
     "execution_count": 6,
     "metadata": {},
     "output_type": "execute_result"
    }
   ],
   "source": [
    "X_1 = X_train\n",
    "y = y_train\n",
    "\n",
    "model_1_orig = sm.OLS(y, sm.add_constant(X_1)).fit()\n",
    "model_1_orig.summary()"
   ]
  },
  {
   "cell_type": "markdown",
   "metadata": {},
   "source": [
    "### Remove Uninfluential Features\n",
    "\n",
    "The first issue with our model is the number of features. This much potential noise is likely not helping our model properly train itself on the relevant data."
   ]
  },
  {
   "cell_type": "markdown",
   "metadata": {},
   "source": [
    "As our first approach, we use scikit-learn's feature_selection submodule to select only the most important features."
   ]
  },
  {
   "cell_type": "code",
   "execution_count": 7,
   "metadata": {
    "scrolled": true
   },
   "outputs": [
    {
     "name": "stdout",
     "output_type": "stream",
     "text": [
      "['sqft_living', 'sqft_lot', 'yr_built', 'bedrooms', 'bathrooms', 'floors', 'renovated_2000', 'waterfront', 'has_basement']\n"
     ]
    }
   ],
   "source": [
    "# Importances are based on coefficient magnitude, so\n",
    "# we need to scale the data to normalize the coefficients\n",
    "X_train_for_RFECV = StandardScaler().fit_transform(X_train)\n",
    "\n",
    "# Instantiate and fit the selector\n",
    "selector = RFECV(LinearRegression(), cv=ShuffleSplit(n_splits=3, test_size=0.25, random_state=0))\n",
    "selector.fit(X_train_for_RFECV, y_train)\n",
    "\n",
    "selected_features = []\n",
    "\n",
    "# Relevant Features:\n",
    "for index, col in enumerate(X_train.columns):\n",
    "    if selector.support_[index] == True:\n",
    "        selected_features.append(col)\n",
    "        #print(col)\n",
    "\n",
    "print(selected_features)"
   ]
  },
  {
   "cell_type": "markdown",
   "metadata": {},
   "source": [
    "No features were removed"
   ]
  },
  {
   "cell_type": "markdown",
   "metadata": {},
   "source": [
    "### Investigate Multicollinearity\n",
    "\n",
    "Cond No is NOT above 30, but nonetheless explore collinearity"
   ]
  },
  {
   "cell_type": "code",
   "execution_count": 9,
   "metadata": {
    "scrolled": true
   },
   "outputs": [
    {
     "data": {
      "text/html": [
       "<div>\n",
       "<style scoped>\n",
       "    .dataframe tbody tr th:only-of-type {\n",
       "        vertical-align: middle;\n",
       "    }\n",
       "\n",
       "    .dataframe tbody tr th {\n",
       "        vertical-align: top;\n",
       "    }\n",
       "\n",
       "    .dataframe thead th {\n",
       "        text-align: right;\n",
       "    }\n",
       "</style>\n",
       "<table border=\"1\" class=\"dataframe\">\n",
       "  <thead>\n",
       "    <tr style=\"text-align: right;\">\n",
       "      <th></th>\n",
       "      <th>sqft_living</th>\n",
       "      <th>sqft_lot</th>\n",
       "      <th>yr_built</th>\n",
       "      <th>bedrooms</th>\n",
       "      <th>bathrooms</th>\n",
       "      <th>floors</th>\n",
       "      <th>renovated_2000</th>\n",
       "      <th>waterfront</th>\n",
       "      <th>has_basement</th>\n",
       "    </tr>\n",
       "  </thead>\n",
       "  <tbody>\n",
       "    <tr>\n",
       "      <th>sqft_living</th>\n",
       "      <td>1.000000</td>\n",
       "      <td>0.328794</td>\n",
       "      <td>0.351948</td>\n",
       "      <td>0.652068</td>\n",
       "      <td>0.763292</td>\n",
       "      <td>0.396071</td>\n",
       "      <td>0.044469</td>\n",
       "      <td>0.085463</td>\n",
       "      <td>0.233090</td>\n",
       "    </tr>\n",
       "    <tr>\n",
       "      <th>sqft_lot</th>\n",
       "      <td>0.328794</td>\n",
       "      <td>1.000000</td>\n",
       "      <td>-0.006077</td>\n",
       "      <td>0.202972</td>\n",
       "      <td>0.087826</td>\n",
       "      <td>-0.214441</td>\n",
       "      <td>-0.008913</td>\n",
       "      <td>0.074727</td>\n",
       "      <td>-0.048784</td>\n",
       "    </tr>\n",
       "    <tr>\n",
       "      <th>yr_built</th>\n",
       "      <td>0.351948</td>\n",
       "      <td>-0.006077</td>\n",
       "      <td>1.000000</td>\n",
       "      <td>0.199792</td>\n",
       "      <td>0.534953</td>\n",
       "      <td>0.474481</td>\n",
       "      <td>-0.123900</td>\n",
       "      <td>-0.021563</td>\n",
       "      <td>-0.164290</td>\n",
       "    </tr>\n",
       "    <tr>\n",
       "      <th>bedrooms</th>\n",
       "      <td>0.652068</td>\n",
       "      <td>0.202972</td>\n",
       "      <td>0.199792</td>\n",
       "      <td>1.000000</td>\n",
       "      <td>0.540399</td>\n",
       "      <td>0.217331</td>\n",
       "      <td>0.034062</td>\n",
       "      <td>-0.006333</td>\n",
       "      <td>0.155752</td>\n",
       "    </tr>\n",
       "    <tr>\n",
       "      <th>bathrooms</th>\n",
       "      <td>0.763292</td>\n",
       "      <td>0.087826</td>\n",
       "      <td>0.534953</td>\n",
       "      <td>0.540399</td>\n",
       "      <td>1.000000</td>\n",
       "      <td>0.512944</td>\n",
       "      <td>0.057632</td>\n",
       "      <td>0.050733</td>\n",
       "      <td>0.167496</td>\n",
       "    </tr>\n",
       "    <tr>\n",
       "      <th>floors</th>\n",
       "      <td>0.396071</td>\n",
       "      <td>-0.214441</td>\n",
       "      <td>0.474481</td>\n",
       "      <td>0.217331</td>\n",
       "      <td>0.512944</td>\n",
       "      <td>1.000000</td>\n",
       "      <td>0.010760</td>\n",
       "      <td>0.020177</td>\n",
       "      <td>-0.256180</td>\n",
       "    </tr>\n",
       "    <tr>\n",
       "      <th>renovated_2000</th>\n",
       "      <td>0.044469</td>\n",
       "      <td>-0.008913</td>\n",
       "      <td>-0.123900</td>\n",
       "      <td>0.034062</td>\n",
       "      <td>0.057632</td>\n",
       "      <td>0.010760</td>\n",
       "      <td>1.000000</td>\n",
       "      <td>0.017132</td>\n",
       "      <td>0.047421</td>\n",
       "    </tr>\n",
       "    <tr>\n",
       "      <th>waterfront</th>\n",
       "      <td>0.085463</td>\n",
       "      <td>0.074727</td>\n",
       "      <td>-0.021563</td>\n",
       "      <td>-0.006333</td>\n",
       "      <td>0.050733</td>\n",
       "      <td>0.020177</td>\n",
       "      <td>0.017132</td>\n",
       "      <td>1.000000</td>\n",
       "      <td>0.039966</td>\n",
       "    </tr>\n",
       "    <tr>\n",
       "      <th>has_basement</th>\n",
       "      <td>0.233090</td>\n",
       "      <td>-0.048784</td>\n",
       "      <td>-0.164290</td>\n",
       "      <td>0.155752</td>\n",
       "      <td>0.167496</td>\n",
       "      <td>-0.256180</td>\n",
       "      <td>0.047421</td>\n",
       "      <td>0.039966</td>\n",
       "      <td>1.000000</td>\n",
       "    </tr>\n",
       "  </tbody>\n",
       "</table>\n",
       "</div>"
      ],
      "text/plain": [
       "                sqft_living  sqft_lot  yr_built  bedrooms  bathrooms  \\\n",
       "sqft_living        1.000000  0.328794  0.351948  0.652068   0.763292   \n",
       "sqft_lot           0.328794  1.000000 -0.006077  0.202972   0.087826   \n",
       "yr_built           0.351948 -0.006077  1.000000  0.199792   0.534953   \n",
       "bedrooms           0.652068  0.202972  0.199792  1.000000   0.540399   \n",
       "bathrooms          0.763292  0.087826  0.534953  0.540399   1.000000   \n",
       "floors             0.396071 -0.214441  0.474481  0.217331   0.512944   \n",
       "renovated_2000     0.044469 -0.008913 -0.123900  0.034062   0.057632   \n",
       "waterfront         0.085463  0.074727 -0.021563 -0.006333   0.050733   \n",
       "has_basement       0.233090 -0.048784 -0.164290  0.155752   0.167496   \n",
       "\n",
       "                  floors  renovated_2000  waterfront  has_basement  \n",
       "sqft_living     0.396071        0.044469    0.085463      0.233090  \n",
       "sqft_lot       -0.214441       -0.008913    0.074727     -0.048784  \n",
       "yr_built        0.474481       -0.123900   -0.021563     -0.164290  \n",
       "bedrooms        0.217331        0.034062   -0.006333      0.155752  \n",
       "bathrooms       0.512944        0.057632    0.050733      0.167496  \n",
       "floors          1.000000        0.010760    0.020177     -0.256180  \n",
       "renovated_2000  0.010760        1.000000    0.017132      0.047421  \n",
       "waterfront      0.020177        0.017132    1.000000      0.039966  \n",
       "has_basement   -0.256180        0.047421    0.039966      1.000000  "
      ]
     },
     "execution_count": 9,
     "metadata": {},
     "output_type": "execute_result"
    }
   ],
   "source": [
    "corr = X_1.corr()\n",
    "corr"
   ]
  },
  {
   "cell_type": "code",
   "execution_count": 10,
   "metadata": {},
   "outputs": [],
   "source": [
    "sns.set(rc = {'figure.figsize':(20,20)})"
   ]
  },
  {
   "cell_type": "code",
   "execution_count": 11,
   "metadata": {
    "scrolled": false
   },
   "outputs": [
    {
     "data": {
      "image/png": "[encoded data removed]",
      "text/plain": [
       "<Figure size 1440x1440 with 2 Axes>"
      ]
     },
     "metadata": {},
     "output_type": "display_data"
    }
   ],
   "source": [
    "mask = np.zeros_like(corr, dtype=bool)\n",
    "mask[np.triu_indices_from(mask)] = True\n",
    "\n",
    "sns.heatmap(corr, annot = True, mask=mask);"
   ]
  },
  {
   "cell_type": "markdown",
   "metadata": {},
   "source": [
    "We still have far too many features to just visually identify which combinations are contributing the most to multicollinearity. "
   ]
  },
  {
   "cell_type": "code",
   "execution_count": 12,
   "metadata": {
    "scrolled": false
   },
   "outputs": [
    {
     "data": {
      "text/plain": [
       "sqft_living   bathrooms       0.763292\n",
       "bathrooms     sqft_living     0.763292\n",
       "sqft_living   bedrooms        0.652068\n",
       "bedrooms      sqft_living     0.652068\n",
       "bathrooms     bedrooms        0.540399\n",
       "bedrooms      bathrooms       0.540399\n",
       "bathrooms     yr_built        0.534953\n",
       "yr_built      bathrooms       0.534953\n",
       "bathrooms     floors          0.512944\n",
       "floors        bathrooms       0.512944\n",
       "              yr_built        0.474481\n",
       "yr_built      floors          0.474481\n",
       "sqft_living   floors          0.396071\n",
       "floors        sqft_living     0.396071\n",
       "yr_built      sqft_living     0.351948\n",
       "sqft_living   yr_built        0.351948\n",
       "              sqft_lot        0.328794\n",
       "sqft_lot      sqft_living     0.328794\n",
       "sqft_living   has_basement    0.233090\n",
       "has_basement  sqft_living     0.233090\n",
       "dtype: float64"
      ]
     },
     "execution_count": 12,
     "metadata": {},
     "output_type": "execute_result"
    }
   ],
   "source": [
    "#remove correlation of features with themselves\n",
    "corr = corr[corr < 1]\n",
    "\n",
    "#top positively correlated\n",
    "corr[corr < 1].unstack().sort_values(ascending=False)[:20]"
   ]
  },
  {
   "cell_type": "markdown",
   "metadata": {},
   "source": [
    "The above list of values shows the most positively correlated pairings of features. Ideally we would remove one of each of the features with the strongest collinearity.\n",
    "\n",
    "We can see that things like bedrooms and sqftliving are strongly correlated. We can experiment with removing these features later, but for now we keep them because they are recognizable as potentially important features of the pricing of a home.\n",
    "\n",
    "We want to remove features we see a many times, and can probably attempt to remove bathrooms, as they are a strongly correlated feature with both sqft_living and bedrooms, which makes sense in real-life terms as well (larger homes with more bedrooms are likely to have more bathrooms, etc). Similarly, we can try removing view_excellent because it seems to heavily correlate with being on a waterfront."
   ]
  },
  {
   "cell_type": "code",
   "execution_count": 13,
   "metadata": {
    "scrolled": true
   },
   "outputs": [],
   "source": [
    "items_to_drop = ['bathrooms', 'floors']"
   ]
  },
  {
   "cell_type": "code",
   "execution_count": 14,
   "metadata": {},
   "outputs": [
    {
     "data": {
      "text/plain": [
       "has_basement    floors           -0.256180\n",
       "floors          has_basement     -0.256180\n",
       "sqft_lot        floors           -0.214441\n",
       "floors          sqft_lot         -0.214441\n",
       "yr_built        has_basement     -0.164290\n",
       "has_basement    yr_built         -0.164290\n",
       "renovated_2000  yr_built         -0.123900\n",
       "yr_built        renovated_2000   -0.123900\n",
       "sqft_lot        has_basement     -0.048784\n",
       "has_basement    sqft_lot         -0.048784\n",
       "waterfront      yr_built         -0.021563\n",
       "yr_built        waterfront       -0.021563\n",
       "sqft_lot        renovated_2000   -0.008913\n",
       "renovated_2000  sqft_lot         -0.008913\n",
       "bedrooms        waterfront       -0.006333\n",
       "waterfront      bedrooms         -0.006333\n",
       "sqft_lot        yr_built         -0.006077\n",
       "yr_built        sqft_lot         -0.006077\n",
       "renovated_2000  floors            0.010760\n",
       "floors          renovated_2000    0.010760\n",
       "dtype: float64"
      ]
     },
     "execution_count": 14,
     "metadata": {},
     "output_type": "execute_result"
    }
   ],
   "source": [
    "#negatively correlated\n",
    "corr.unstack().sort_values(ascending=True)[:20]"
   ]
  },
  {
   "cell_type": "markdown",
   "metadata": {},
   "source": [
    "None to remove"
   ]
  },
  {
   "cell_type": "markdown",
   "metadata": {},
   "source": [
    "Now that we have checked for uninfluential features as well as features potentially causing multicollinearity, we run the tests again."
   ]
  },
  {
   "cell_type": "code",
   "execution_count": 15,
   "metadata": {
    "scrolled": false
   },
   "outputs": [
    {
     "name": "stderr",
     "output_type": "stream",
     "text": [
      "C:\\Users\\moola\\anaconda3\\lib\\site-packages\\statsmodels\\tsa\\tsatools.py:142: FutureWarning: In a future version of pandas all arguments of concat except for the argument 'objs' will be keyword-only\n",
      "  x = pd.concat(x[::order], 1)\n"
     ]
    },
    {
     "data": {
      "text/plain": [
       "0.47657485563589963"
      ]
     },
     "execution_count": 15,
     "metadata": {},
     "output_type": "execute_result"
    }
   ],
   "source": [
    "X_2 = X_1.drop(items_to_drop, axis=1)\n",
    "\n",
    "model_2_remove_corr = sm.OLS(y, sm.add_constant(X_2)).fit()\n",
    "model_2_remove_corr.rsquared"
   ]
  },
  {
   "cell_type": "markdown",
   "metadata": {},
   "source": [
    "This decreased out our R-squared value, which is not necessarily a problem. We will try a few more things before we compare each model's RMSE."
   ]
  },
  {
   "cell_type": "markdown",
   "metadata": {},
   "source": [
    "Before comparing all of our models ability to accurately predict data on the training and testing sets, we will create a feature set based on our observations in the preprocessing phase and create a model for it as well. We will try removing the categorical variables as well.\n",
    "\n",
    "We will look at the correlation between each feature and price from the preprocessed model as a guide."
   ]
  },
  {
   "cell_type": "code",
   "execution_count": 16,
   "metadata": {
    "scrolled": false
   },
   "outputs": [
    {
     "data": {
      "text/plain": [
       "price             1.000000\n",
       "sqft_living       0.612307\n",
       "bathrooms         0.456159\n",
       "bedrooms          0.298957\n",
       "floors            0.266977\n",
       "waterfront        0.259221\n",
       "has_basement      0.177574\n",
       "sqft_lot          0.161755\n",
       "renovated_2000    0.106630\n",
       "yr_built          0.053036\n",
       "Name: price, dtype: float64"
      ]
     },
     "execution_count": 16,
     "metadata": {},
     "output_type": "execute_result"
    }
   ],
   "source": [
    "#absolute values because negative correlation still counts\n",
    "price_corr = abs(df.corr()['price']).sort_values(ascending = False)\n",
    "price_corr"
   ]
  },
  {
   "cell_type": "code",
   "execution_count": 17,
   "metadata": {},
   "outputs": [
    {
     "data": {
      "text/html": [
       "<table class=\"simpletable\">\n",
       "<caption>OLS Regression Results</caption>\n",
       "<tr>\n",
       "  <th>Dep. Variable:</th>          <td>price</td>      <th>  R-squared:         </th>  <td>   0.483</td>  \n",
       "</tr>\n",
       "<tr>\n",
       "  <th>Model:</th>                   <td>OLS</td>       <th>  Adj. R-squared:    </th>  <td>   0.483</td>  \n",
       "</tr>\n",
       "<tr>\n",
       "  <th>Method:</th>             <td>Least Squares</td>  <th>  F-statistic:       </th>  <td>   1677.</td>  \n",
       "</tr>\n",
       "<tr>\n",
       "  <th>Date:</th>             <td>Thu, 12 May 2022</td> <th>  Prob (F-statistic):</th>   <td>  0.00</td>   \n",
       "</tr>\n",
       "<tr>\n",
       "  <th>Time:</th>                 <td>19:56:53</td>     <th>  Log-Likelihood:    </th> <td>-2.2447e+05</td>\n",
       "</tr>\n",
       "<tr>\n",
       "  <th>No. Observations:</th>      <td> 16149</td>      <th>  AIC:               </th>  <td>4.490e+05</td> \n",
       "</tr>\n",
       "<tr>\n",
       "  <th>Df Residuals:</th>          <td> 16139</td>      <th>  BIC:               </th>  <td>4.490e+05</td> \n",
       "</tr>\n",
       "<tr>\n",
       "  <th>Df Model:</th>              <td>     9</td>      <th>                     </th>      <td> </td>     \n",
       "</tr>\n",
       "<tr>\n",
       "  <th>Covariance Type:</th>      <td>nonrobust</td>    <th>                     </th>      <td> </td>     \n",
       "</tr>\n",
       "</table>\n",
       "<table class=\"simpletable\">\n",
       "<tr>\n",
       "         <td></td>           <th>coef</th>     <th>std err</th>      <th>t</th>      <th>P>|t|</th>  <th>[0.025</th>    <th>0.975]</th>  \n",
       "</tr>\n",
       "<tr>\n",
       "  <th>const</th>          <td> 5.338e+05</td> <td> 2897.166</td> <td>  184.256</td> <td> 0.000</td> <td> 5.28e+05</td> <td> 5.39e+05</td>\n",
       "</tr>\n",
       "<tr>\n",
       "  <th>sqft_living</th>    <td> 2.542e+05</td> <td> 4101.627</td> <td>   61.986</td> <td> 0.000</td> <td> 2.46e+05</td> <td> 2.62e+05</td>\n",
       "</tr>\n",
       "<tr>\n",
       "  <th>bathrooms</th>      <td> 3.325e+04</td> <td> 3805.913</td> <td>    8.737</td> <td> 0.000</td> <td> 2.58e+04</td> <td> 4.07e+04</td>\n",
       "</tr>\n",
       "<tr>\n",
       "  <th>bedrooms</th>       <td>-6.007e+04</td> <td> 2778.273</td> <td>  -21.622</td> <td> 0.000</td> <td>-6.55e+04</td> <td>-5.46e+04</td>\n",
       "</tr>\n",
       "<tr>\n",
       "  <th>floors</th>         <td> 2.808e+04</td> <td> 3003.755</td> <td>    9.350</td> <td> 0.000</td> <td> 2.22e+04</td> <td>  3.4e+04</td>\n",
       "</tr>\n",
       "<tr>\n",
       "  <th>waterfront</th>     <td> 9.519e+05</td> <td>  2.5e+04</td> <td>   38.060</td> <td> 0.000</td> <td> 9.03e+05</td> <td>    1e+06</td>\n",
       "</tr>\n",
       "<tr>\n",
       "  <th>has_basement</th>   <td>-8307.4492</td> <td> 5202.750</td> <td>   -1.597</td> <td> 0.110</td> <td>-1.85e+04</td> <td> 1890.518</td>\n",
       "</tr>\n",
       "<tr>\n",
       "  <th>sqft_lot</th>       <td>-1.525e+04</td> <td> 2567.890</td> <td>   -5.937</td> <td> 0.000</td> <td>-2.03e+04</td> <td>-1.02e+04</td>\n",
       "</tr>\n",
       "<tr>\n",
       "  <th>renovated_2000</th> <td> 1.107e+05</td> <td> 1.62e+04</td> <td>    6.837</td> <td> 0.000</td> <td>  7.9e+04</td> <td> 1.42e+05</td>\n",
       "</tr>\n",
       "<tr>\n",
       "  <th>yr_built</th>       <td> -8.45e+04</td> <td> 2677.458</td> <td>  -31.559</td> <td> 0.000</td> <td>-8.97e+04</td> <td>-7.92e+04</td>\n",
       "</tr>\n",
       "</table>\n",
       "<table class=\"simpletable\">\n",
       "<tr>\n",
       "  <th>Omnibus:</th>       <td>12860.582</td> <th>  Durbin-Watson:     </th>  <td>   1.996</td> \n",
       "</tr>\n",
       "<tr>\n",
       "  <th>Prob(Omnibus):</th>  <td> 0.000</td>   <th>  Jarque-Bera (JB):  </th> <td>850975.749</td>\n",
       "</tr>\n",
       "<tr>\n",
       "  <th>Skew:</th>           <td> 3.336</td>   <th>  Prob(JB):          </th>  <td>    0.00</td> \n",
       "</tr>\n",
       "<tr>\n",
       "  <th>Kurtosis:</th>       <td>37.931</td>   <th>  Cond. No.          </th>  <td>    20.7</td> \n",
       "</tr>\n",
       "</table><br/><br/>Notes:<br/>[1] Standard Errors assume that the covariance matrix of the errors is correctly specified."
      ],
      "text/plain": [
       "<class 'statsmodels.iolib.summary.Summary'>\n",
       "\"\"\"\n",
       "                            OLS Regression Results                            \n",
       "==============================================================================\n",
       "Dep. Variable:                  price   R-squared:                       0.483\n",
       "Model:                            OLS   Adj. R-squared:                  0.483\n",
       "Method:                 Least Squares   F-statistic:                     1677.\n",
       "Date:                Thu, 12 May 2022   Prob (F-statistic):               0.00\n",
       "Time:                        19:56:53   Log-Likelihood:            -2.2447e+05\n",
       "No. Observations:               16149   AIC:                         4.490e+05\n",
       "Df Residuals:                   16139   BIC:                         4.490e+05\n",
       "Df Model:                           9                                         \n",
       "Covariance Type:            nonrobust                                         \n",
       "==================================================================================\n",
       "                     coef    std err          t      P>|t|      [0.025      0.975]\n",
       "----------------------------------------------------------------------------------\n",
       "const           5.338e+05   2897.166    184.256      0.000    5.28e+05    5.39e+05\n",
       "sqft_living     2.542e+05   4101.627     61.986      0.000    2.46e+05    2.62e+05\n",
       "bathrooms       3.325e+04   3805.913      8.737      0.000    2.58e+04    4.07e+04\n",
       "bedrooms       -6.007e+04   2778.273    -21.622      0.000   -6.55e+04   -5.46e+04\n",
       "floors          2.808e+04   3003.755      9.350      0.000    2.22e+04     3.4e+04\n",
       "waterfront      9.519e+05    2.5e+04     38.060      0.000    9.03e+05       1e+06\n",
       "has_basement   -8307.4492   5202.750     -1.597      0.110   -1.85e+04    1890.518\n",
       "sqft_lot       -1.525e+04   2567.890     -5.937      0.000   -2.03e+04   -1.02e+04\n",
       "renovated_2000  1.107e+05   1.62e+04      6.837      0.000     7.9e+04    1.42e+05\n",
       "yr_built        -8.45e+04   2677.458    -31.559      0.000   -8.97e+04   -7.92e+04\n",
       "==============================================================================\n",
       "Omnibus:                    12860.582   Durbin-Watson:                   1.996\n",
       "Prob(Omnibus):                  0.000   Jarque-Bera (JB):           850975.749\n",
       "Skew:                           3.336   Prob(JB):                         0.00\n",
       "Kurtosis:                      37.931   Cond. No.                         20.7\n",
       "==============================================================================\n",
       "\n",
       "Notes:\n",
       "[1] Standard Errors assume that the covariance matrix of the errors is correctly specified.\n",
       "\"\"\""
      ]
     },
     "execution_count": 17,
     "metadata": {},
     "output_type": "execute_result"
    }
   ],
   "source": [
    "#just take the top correlated features with price\n",
    "observed_features = price_corr.index[1:11]\n",
    "\n",
    "X_4 = X_train[observed_features]\n",
    "\n",
    "model_4_price_corr = sm.OLS(y, sm.add_constant(X_4)).fit()\n",
    "model_4_price_corr.summary()"
   ]
  },
  {
   "cell_type": "markdown",
   "metadata": {},
   "source": [
    "## Evaluating Models\n",
    "Next we will compare the RMSE for models from each set of features we explored, on both the training and testing data.\n",
    "\n",
    "The RMSE, or Root Mean Squared Error, is a measure of how far off our regression models are from the actual values they attempt to predict. The lower the RMSE, the better at predicting prices the trained model is."
   ]
  },
  {
   "cell_type": "code",
   "execution_count": 18,
   "metadata": {},
   "outputs": [],
   "source": [
    "#training linear regression models on the training set for each set of features\n",
    "\n",
    "#X_1\n",
    "#train model\n",
    "model1 = LinearRegression().fit(X_1, y_train)\n",
    "#predict on model\n",
    "pred1 = model1.predict(X_1)\n",
    "#rmse for training set\n",
    "train1_rmse = mean_squared_error(y_train, pred1, squared=False)\n",
    "\n",
    "#create test set of features\n",
    "X_1_test = X_test[X_1.columns]\n",
    "#predict on test feature set\n",
    "pred1_test = model1.predict(X_1_test)\n",
    "#rmse for test set\n",
    "test1_rmse = mean_squared_error(y_test, pred1_test, squared=False)\n",
    "\n",
    "#X_2\n",
    "model2 = LinearRegression().fit(X_2, y_train)\n",
    "pred2 = model2.predict(X_2)\n",
    "train2_rmse = mean_squared_error(y_train, pred2, squared=False)\n",
    "\n",
    "X_2_test = X_test[X_2.columns]\n",
    "pred2_test = model2.predict(X_2_test)\n",
    "test2_rmse = mean_squared_error(y_test, pred2_test, squared=False)\n",
    "\n",
    "#X_4\n",
    "model4 = LinearRegression().fit(X_4, y_train)\n",
    "pred4 = model4.predict(X_4)\n",
    "train4_rmse = mean_squared_error(y_train, pred4, squared=False)\n",
    "\n",
    "X_4_test = X_test[X_4.columns]\n",
    "pred4_test = model4.predict(X_4_test)\n",
    "test4_rmse = mean_squared_error(y_test, pred4_test, squared=False)\n"
   ]
  },
  {
   "cell_type": "code",
   "execution_count": 19,
   "metadata": {},
   "outputs": [
    {
     "name": "stdout",
     "output_type": "stream",
     "text": [
      "Model 1 - Original:\n",
      "  Training Data RMSE:  263299.999277122\n",
      "  Test Data RMSE:  270654.7615805127\n",
      "\n",
      "Model 2 - Removed Uninfluential:\n",
      "  Training Data RMSE:  264984.8430642421\n",
      "  Test Data RMSE:  272478.83359948086\n",
      "\n",
      "Model 4 - Based On Observations:\n",
      "  Training Data RMSE:  263299.999277122\n",
      "  Test Data RMSE:  270654.7615805126\n"
     ]
    }
   ],
   "source": [
    "print('Model 1 - Original:')\n",
    "print('  Training Data RMSE: ',train1_rmse)\n",
    "print('  Test Data RMSE: ',test1_rmse)\n",
    "print()\n",
    "print('Model 2 - Removed Uninfluential:')\n",
    "print('  Training Data RMSE: ',train2_rmse)\n",
    "print('  Test Data RMSE: ',test2_rmse)\n",
    "\n",
    "print()\n",
    "print('Model 4 - Based On Observations:')\n",
    "print('  Training Data RMSE: ',train4_rmse)\n",
    "print('  Test Data RMSE: ',test4_rmse)\n"
   ]
  },
  {
   "cell_type": "markdown",
   "metadata": {},
   "source": [
    "While it is only by a small amount, our second model performed the best with the test data, at about a 213,708 RMSE. SO we will "
   ]
  },
  {
   "cell_type": "markdown",
   "metadata": {},
   "source": [
    "## Final Model Interpretation"
   ]
  },
  {
   "cell_type": "code",
   "execution_count": 23,
   "metadata": {},
   "outputs": [
    {
     "data": {
      "text/plain": [
       "0.4515794915334653"
      ]
     },
     "execution_count": 23,
     "metadata": {},
     "output_type": "execute_result"
    }
   ],
   "source": [
    "final_model = model4\n",
    "final_model.score(X_test_final, y_test)"
   ]
  },
  {
   "cell_type": "markdown",
   "metadata": {},
   "source": [
    "The final model's score indicates that it is accurate about 66% of the time.\n",
    "\n",
    "Next we investigate if our model violates each of the assumptions of linear regression:"
   ]
  },
  {
   "cell_type": "markdown",
   "metadata": {},
   "source": [
    "### Linearity"
   ]
  },
  {
   "cell_type": "code",
   "execution_count": 24,
   "metadata": {},
   "outputs": [],
   "source": [
    "sns.set(rc = {'figure.figsize':(5,5)})"
   ]
  },
  {
   "cell_type": "code",
   "execution_count": 25,
   "metadata": {
    "scrolled": false
   },
   "outputs": [
    {
     "data": {
      "text/plain": [
       "Text(0, 0.5, 'Predicted Value')"
      ]
     },
     "execution_count": 25,
     "metadata": {},
     "output_type": "execute_result"
    },
    {
     "data": {
      "image/png": "[encoded data removed]",
      "text/plain": [
       "<Figure size 360x360 with 1 Axes>"
      ]
     },
     "metadata": {},
     "output_type": "display_data"
    }
   ],
   "source": [
    "preds = final_model.predict(X_test_final)\n",
    "fig, ax = plt.subplots()\n",
    "\n",
    "perfect_line = np.arange(y_test.min(), y_test.max())\n",
    "ax.scatter(y_test, preds, alpha=0.5)\n",
    "ax.set_xlabel(\"Actual Value\")\n",
    "ax.set_ylabel(\"Predicted Value\")"
   ]
  },
  {
   "cell_type": "markdown",
   "metadata": {},
   "source": [
    "This actually looks like it has a decently linear relationship, with only a few noteable outliers."
   ]
  },
  {
   "cell_type": "markdown",
   "metadata": {},
   "source": [
    "### Normality"
   ]
  },
  {
   "cell_type": "code",
   "execution_count": 26,
   "metadata": {
    "scrolled": false
   },
   "outputs": [
    {
     "name": "stderr",
     "output_type": "stream",
     "text": [
      "C:\\Users\\moola\\anaconda3\\lib\\site-packages\\statsmodels\\graphics\\gofplots.py:993: UserWarning: marker is redundantly defined by the 'marker' keyword argument and the fmt string \"bo\" (-> marker='o'). The keyword argument will take precedence.\n",
      "  ax.plot(x, y, fmt, **plot_style)\n"
     ]
    },
    {
     "data": {
      "image/png": "[encoded data removed]",
      "text/plain": [
       "<Figure size 360x360 with 1 Axes>"
      ]
     },
     "metadata": {},
     "output_type": "display_data"
    }
   ],
   "source": [
    "residuals = (y_test - preds)\n",
    "sm.graphics.qqplot(residuals, dist=stats.norm, line='45', fit=True);"
   ]
  },
  {
   "cell_type": "markdown",
   "metadata": {},
   "source": [
    "With the exception of some outliers, this plot does look relatively normal."
   ]
  },
  {
   "cell_type": "markdown",
   "metadata": {},
   "source": [
    "### Multicollinearity\n",
    "We already made sure that our model did not violate multicollinearity by removing features in the modeling phase. But we check again in the interest of good practice."
   ]
  },
  {
   "cell_type": "code",
   "execution_count": 27,
   "metadata": {
    "scrolled": false
   },
   "outputs": [
    {
     "data": {
      "text/plain": [
       "sqft_living       3.773583\n",
       "bathrooms         3.342469\n",
       "bedrooms          1.793269\n",
       "floors            1.903750\n",
       "waterfront        1.025809\n",
       "has_basement      1.268587\n",
       "sqft_lot          1.460672\n",
       "renovated_2000    1.046965\n",
       "yr_built          1.631957\n",
       "Name: Variance Inflation Factor, dtype: float64"
      ]
     },
     "execution_count": 27,
     "metadata": {},
     "output_type": "execute_result"
    }
   ],
   "source": [
    "vif = [variance_inflation_factor(X_train_final.values, i) for i in range(X_train_final.shape[1])]\n",
    "\n",
    "pd.Series(vif, index=X_train_final.columns, name=\"Variance Inflation Factor\")"
   ]
  },
  {
   "cell_type": "markdown",
   "metadata": {},
   "source": [
    "### Homoscedasticity"
   ]
  },
  {
   "cell_type": "code",
   "execution_count": 28,
   "metadata": {},
   "outputs": [
    {
     "data": {
      "image/png": "[encoded data removed]",
      "text/plain": [
       "<Figure size 360x360 with 1 Axes>"
      ]
     },
     "metadata": {},
     "output_type": "display_data"
    }
   ],
   "source": [
    "fig, ax = plt.subplots()\n",
    "\n",
    "ax.scatter(preds, residuals, alpha=0.5)\n",
    "ax.plot(preds, [0 for i in range(len(X_test_final))])\n",
    "ax.set_xlabel(\"Predicted Value\")\n",
    "ax.set_ylabel(\"Actual - Predicted Value\");"
   ]
  },
  {
   "cell_type": "code",
   "execution_count": 29,
   "metadata": {
    "scrolled": true
   },
   "outputs": [
    {
     "name": "stdout",
     "output_type": "stream",
     "text": [
      "sqft_living      254241.893\n",
      "bathrooms         33253.354\n",
      "bedrooms         -60073.094\n",
      "floors            28084.206\n",
      "waterfront       951913.179\n",
      "has_basement      -8307.449\n",
      "sqft_lot         -15245.395\n",
      "renovated_2000   110716.504\n",
      "yr_built         -84497.205\n",
      "Name: Coefficients, dtype: float64\n",
      "\n",
      "Intercept: 533820.6756044596\n"
     ]
    }
   ],
   "source": [
    "pd.set_option('display.float_format', lambda x: '%.3f' % x)\n",
    "\n",
    "print(pd.Series(final_model.coef_, index=X_train_final.columns, name=\"Coefficients\"))\n",
    "print()\n",
    "print(\"Intercept:\", final_model.intercept_)"
   ]
  }
 ],
 "metadata": {
  "kernelspec": {
   "display_name": "Python 3 (ipykernel)",
   "language": "python",
   "name": "python3"
  },
  "language_info": {
   "codemirror_mode": {
    "name": "ipython",
    "version": 3
   },
   "file_extension": ".py",
   "mimetype": "text/x-python",
   "name": "python",
   "nbconvert_exporter": "python",
   "pygments_lexer": "ipython3",
   "version": "3.9.7"
  }
 },
 "nbformat": 4,
 "nbformat_minor": 2
}
