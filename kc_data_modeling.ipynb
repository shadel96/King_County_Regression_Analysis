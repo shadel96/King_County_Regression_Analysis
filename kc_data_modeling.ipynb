{
 "cells": [
  {
   "cell_type": "markdown",
   "metadata": {},
   "source": [
    "# King County House Sales Regression Analysis\n",
    "## Data Modeling"
   ]
  },
  {
   "cell_type": "markdown",
   "metadata": {},
   "source": [
    "* Student name: Spencer Hadel\n",
    "* Student pace: Flex\n",
    "* Scheduled project review date/time: 5/5/2022, 11:00am EST\n",
    "* Instructor name: Claude Fried"
   ]
  },
  {
   "cell_type": "markdown",
   "metadata": {},
   "source": [
    "#### Objective\n",
    "\n",
    "In order to help a new real estate company in King County, we need to analyze past house sales data in the region and create a linear regression model which can help the company better understand what factors contribute to price of a given home. We will import over 20 thousand data points from recent sales in the King County area, and proceed to clean, preprocess, and model the information present in this dataset in order to inform the new company on how to appropriately assess the value of a home when helping a client buy or sell a home."
   ]
  },
  {
   "cell_type": "markdown",
   "metadata": {},
   "source": [
    "### Import Modules"
   ]
  },
  {
   "cell_type": "code",
   "execution_count": 1,
   "metadata": {},
   "outputs": [],
   "source": [
    "import pandas as pd\n",
    "import matplotlib.pyplot as plt\n",
    "import numpy as np\n",
    "import seaborn as sns\n",
    "\n",
    "from statsmodels.formula.api import ols\n",
    "from statsmodels.stats.outliers_influence import variance_inflation_factor\n",
    "import statsmodels.api as sm\n",
    "import scipy.stats as stats\n",
    "from sklearn.model_selection import train_test_split\n",
    "\n",
    "from sklearn.linear_model import LinearRegression\n",
    "from sklearn.feature_selection import RFECV\n",
    "from sklearn.preprocessing import StandardScaler\n",
    "from sklearn.model_selection import cross_validate, ShuffleSplit\n",
    "\n",
    "from sklearn.metrics import mean_squared_error\n",
    "from sklearn.dummy import DummyRegressor"
   ]
  },
  {
   "cell_type": "markdown",
   "metadata": {},
   "source": [
    "### Import Prepared Data from kc_preprocessing_exploring.ipynb"
   ]
  },
  {
   "cell_type": "markdown",
   "metadata": {},
   "source": [
    "We have already preprocessed our data in the kc_kc_preprocessing_exploring notebook:\n",
    "\n",
    "[Preprocessing Notebook](./kc_preprocessing_exploring.ipynb)"
   ]
  },
  {
   "cell_type": "code",
   "execution_count": 2,
   "metadata": {},
   "outputs": [],
   "source": [
    "df = pd.read_csv('./data/preprocessed.csv', index_col = 0)"
   ]
  },
  {
   "cell_type": "code",
   "execution_count": 3,
   "metadata": {
    "scrolled": false
   },
   "outputs": [
    {
     "name": "stdout",
     "output_type": "stream",
     "text": [
      "<class 'pandas.core.frame.DataFrame'>\n",
      "Int64Index: 21532 entries, 0 to 21596\n",
      "Data columns (total 28 columns):\n",
      " #   Column               Non-Null Count  Dtype  \n",
      "---  ------               --------------  -----  \n",
      " 0   price                21532 non-null  float64\n",
      " 1   sqft_living          21532 non-null  float64\n",
      " 2   sqft_lot             21532 non-null  float64\n",
      " 3   yr_built             21532 non-null  float64\n",
      " 4   bedrooms             21532 non-null  float64\n",
      " 5   bathrooms            21532 non-null  float64\n",
      " 6   floors               21532 non-null  float64\n",
      " 7   renovated_2000       21532 non-null  int64  \n",
      " 8   waterfront           21532 non-null  int64  \n",
      " 9   has_basement         21532 non-null  int64  \n",
      " 10  view_EXCELLENT       21532 non-null  int64  \n",
      " 11  view_FAIR            21532 non-null  int64  \n",
      " 12  view_GOOD            21532 non-null  int64  \n",
      " 13  view_NONE            21532 non-null  int64  \n",
      " 14  grade_11 Excellent   21532 non-null  int64  \n",
      " 15  grade_12 Luxury      21532 non-null  int64  \n",
      " 16  grade_13 Mansion     21532 non-null  int64  \n",
      " 17  grade_3 Poor         21532 non-null  int64  \n",
      " 18  grade_4 Low          21532 non-null  int64  \n",
      " 19  grade_5 Fair         21532 non-null  int64  \n",
      " 20  grade_6 Low Average  21532 non-null  int64  \n",
      " 21  grade_7 Average      21532 non-null  int64  \n",
      " 22  grade_8 Good         21532 non-null  int64  \n",
      " 23  grade_9 Better       21532 non-null  int64  \n",
      " 24  condition_Fair       21532 non-null  int64  \n",
      " 25  condition_Good       21532 non-null  int64  \n",
      " 26  condition_Poor       21532 non-null  int64  \n",
      " 27  condition_Very Good  21532 non-null  int64  \n",
      "dtypes: float64(7), int64(21)\n",
      "memory usage: 4.8 MB\n"
     ]
    }
   ],
   "source": [
    "df.info()"
   ]
  },
  {
   "cell_type": "code",
   "execution_count": 4,
   "metadata": {
    "scrolled": false
   },
   "outputs": [
    {
     "data": {
      "text/plain": [
       "['price',\n",
       " 'sqft_living',\n",
       " 'sqft_lot',\n",
       " 'yr_built',\n",
       " 'bedrooms',\n",
       " 'bathrooms',\n",
       " 'floors',\n",
       " 'renovated_2000',\n",
       " 'waterfront',\n",
       " 'has_basement',\n",
       " 'view_EXCELLENT',\n",
       " 'view_FAIR',\n",
       " 'view_GOOD',\n",
       " 'view_NONE',\n",
       " 'grade_11_Excellent',\n",
       " 'grade_12_Luxury',\n",
       " 'grade_13_Mansion',\n",
       " 'grade_3_Poor',\n",
       " 'grade_4_Low',\n",
       " 'grade_5_Fair',\n",
       " 'grade_6_Low_Average',\n",
       " 'grade_7_Average',\n",
       " 'grade_8_Good',\n",
       " 'grade_9_Better',\n",
       " 'condition_Fair',\n",
       " 'condition_Good',\n",
       " 'condition_Poor',\n",
       " 'condition_Very_Good']"
      ]
     },
     "execution_count": 4,
     "metadata": {},
     "output_type": "execute_result"
    }
   ],
   "source": [
    "subs = [(' ', '_'),('.','_'),(\"'\",\"\"),('™', ''), ('®',''),\n",
    "        ('+','plus'), ('½','half'), ('-','_')\n",
    "       ]\n",
    "def col_formatting(col):\n",
    "    for old, new in subs:\n",
    "        col = col.replace(old,new)\n",
    "    return col\n",
    "\n",
    "df.columns = [col_formatting(col) for col in df.columns]\n",
    "\n",
    "list(df.columns)"
   ]
  },
  {
   "cell_type": "markdown",
   "metadata": {},
   "source": [
    "## Split, Train and Test Data\n",
    "\n",
    "Now that we have a complete preprocessed dataset, we need to split the data into train and test datasets, as well as identify the feature we are testing for: price."
   ]
  },
  {
   "cell_type": "code",
   "execution_count": 5,
   "metadata": {},
   "outputs": [
    {
     "data": {
      "text/plain": [
       "((16149, 27), (5383, 27), (16149,), (5383,))"
      ]
     },
     "execution_count": 5,
     "metadata": {},
     "output_type": "execute_result"
    }
   ],
   "source": [
    "X = df.drop(['price'], axis=1)\n",
    "y = df['price']\n",
    "\n",
    "X_train, X_test, y_train, y_test = train_test_split(X, y, random_state=42)\n",
    "\n",
    "#check size of each\n",
    "X_train.shape, X_test.shape, y_train.shape, y_test.shape"
   ]
  },
  {
   "cell_type": "code",
   "execution_count": 6,
   "metadata": {
    "scrolled": false
   },
   "outputs": [
    {
     "name": "stderr",
     "output_type": "stream",
     "text": [
      "C:\\Users\\moola\\anaconda3\\lib\\site-packages\\statsmodels\\tsa\\tsatools.py:142: FutureWarning: In a future version of pandas all arguments of concat except for the argument 'objs' will be keyword-only\n",
      "  x = pd.concat(x[::order], 1)\n"
     ]
    },
    {
     "data": {
      "text/html": [
       "<table class=\"simpletable\">\n",
       "<caption>OLS Regression Results</caption>\n",
       "<tr>\n",
       "  <th>Dep. Variable:</th>          <td>price</td>      <th>  R-squared:         </th>  <td>   0.665</td>  \n",
       "</tr>\n",
       "<tr>\n",
       "  <th>Model:</th>                   <td>OLS</td>       <th>  Adj. R-squared:    </th>  <td>   0.664</td>  \n",
       "</tr>\n",
       "<tr>\n",
       "  <th>Method:</th>             <td>Least Squares</td>  <th>  F-statistic:       </th>  <td>   1229.</td>  \n",
       "</tr>\n",
       "<tr>\n",
       "  <th>Date:</th>             <td>Thu, 12 May 2022</td> <th>  Prob (F-statistic):</th>   <td>  0.00</td>   \n",
       "</tr>\n",
       "<tr>\n",
       "  <th>Time:</th>                 <td>19:27:01</td>     <th>  Log-Likelihood:    </th> <td>-2.2098e+05</td>\n",
       "</tr>\n",
       "<tr>\n",
       "  <th>No. Observations:</th>      <td> 16149</td>      <th>  AIC:               </th>  <td>4.420e+05</td> \n",
       "</tr>\n",
       "<tr>\n",
       "  <th>Df Residuals:</th>          <td> 16122</td>      <th>  BIC:               </th>  <td>4.422e+05</td> \n",
       "</tr>\n",
       "<tr>\n",
       "  <th>Df Model:</th>              <td>    26</td>      <th>                     </th>      <td> </td>     \n",
       "</tr>\n",
       "<tr>\n",
       "  <th>Covariance Type:</th>      <td>nonrobust</td>    <th>                     </th>      <td> </td>     \n",
       "</tr>\n",
       "</table>\n",
       "<table class=\"simpletable\">\n",
       "<tr>\n",
       "           <td></td>              <th>coef</th>     <th>std err</th>      <th>t</th>      <th>P>|t|</th>  <th>[0.025</th>    <th>0.975]</th>  \n",
       "</tr>\n",
       "<tr>\n",
       "  <th>const</th>               <td> 9.769e+05</td> <td> 1.14e+04</td> <td>   85.749</td> <td> 0.000</td> <td> 9.55e+05</td> <td> 9.99e+05</td>\n",
       "</tr>\n",
       "<tr>\n",
       "  <th>sqft_living</th>         <td> 1.013e+05</td> <td> 3877.148</td> <td>   26.129</td> <td> 0.000</td> <td> 9.37e+04</td> <td> 1.09e+05</td>\n",
       "</tr>\n",
       "<tr>\n",
       "  <th>sqft_lot</th>            <td> -2.64e+04</td> <td> 2105.860</td> <td>  -12.538</td> <td> 0.000</td> <td>-3.05e+04</td> <td>-2.23e+04</td>\n",
       "</tr>\n",
       "<tr>\n",
       "  <th>yr_built</th>            <td>-8.491e+04</td> <td> 2370.576</td> <td>  -35.820</td> <td> 0.000</td> <td>-8.96e+04</td> <td>-8.03e+04</td>\n",
       "</tr>\n",
       "<tr>\n",
       "  <th>bedrooms</th>            <td>-1.626e+04</td> <td> 2312.328</td> <td>   -7.032</td> <td> 0.000</td> <td>-2.08e+04</td> <td>-1.17e+04</td>\n",
       "</tr>\n",
       "<tr>\n",
       "  <th>bathrooms</th>           <td>  2.29e+04</td> <td> 3118.733</td> <td>    7.341</td> <td> 0.000</td> <td> 1.68e+04</td> <td>  2.9e+04</td>\n",
       "</tr>\n",
       "<tr>\n",
       "  <th>floors</th>              <td> 1.179e+04</td> <td> 2478.541</td> <td>    4.758</td> <td> 0.000</td> <td> 6933.505</td> <td> 1.66e+04</td>\n",
       "</tr>\n",
       "<tr>\n",
       "  <th>renovated_2000</th>      <td> 1.069e+05</td> <td> 1.32e+04</td> <td>    8.083</td> <td> 0.000</td> <td>  8.1e+04</td> <td> 1.33e+05</td>\n",
       "</tr>\n",
       "<tr>\n",
       "  <th>waterfront</th>          <td> 5.722e+05</td> <td> 2.45e+04</td> <td>   23.347</td> <td> 0.000</td> <td> 5.24e+05</td> <td>  6.2e+05</td>\n",
       "</tr>\n",
       "<tr>\n",
       "  <th>has_basement</th>        <td> 1.896e+04</td> <td> 4248.492</td> <td>    4.462</td> <td> 0.000</td> <td> 1.06e+04</td> <td> 2.73e+04</td>\n",
       "</tr>\n",
       "<tr>\n",
       "  <th>view_EXCELLENT</th>      <td> 2.333e+05</td> <td> 1.87e+04</td> <td>   12.501</td> <td> 0.000</td> <td> 1.97e+05</td> <td>  2.7e+05</td>\n",
       "</tr>\n",
       "<tr>\n",
       "  <th>view_FAIR</th>           <td> 6.961e+04</td> <td> 1.59e+04</td> <td>    4.389</td> <td> 0.000</td> <td> 3.85e+04</td> <td> 1.01e+05</td>\n",
       "</tr>\n",
       "<tr>\n",
       "  <th>view_GOOD</th>           <td> 4.061e+04</td> <td> 1.38e+04</td> <td>    2.942</td> <td> 0.003</td> <td> 1.36e+04</td> <td> 6.77e+04</td>\n",
       "</tr>\n",
       "<tr>\n",
       "  <th>view_NONE</th>           <td>-6.925e+04</td> <td> 8344.124</td> <td>   -8.299</td> <td> 0.000</td> <td>-8.56e+04</td> <td>-5.29e+04</td>\n",
       "</tr>\n",
       "<tr>\n",
       "  <th>grade_11_Excellent</th>  <td>  3.65e+05</td> <td> 1.46e+04</td> <td>   25.014</td> <td> 0.000</td> <td> 3.36e+05</td> <td> 3.94e+05</td>\n",
       "</tr>\n",
       "<tr>\n",
       "  <th>grade_12_Luxury</th>     <td> 9.057e+05</td> <td> 2.63e+04</td> <td>   34.391</td> <td> 0.000</td> <td> 8.54e+05</td> <td> 9.57e+05</td>\n",
       "</tr>\n",
       "<tr>\n",
       "  <th>grade_13_Mansion</th>    <td> 1.853e+06</td> <td> 6.47e+04</td> <td>   28.650</td> <td> 0.000</td> <td> 1.73e+06</td> <td> 1.98e+06</td>\n",
       "</tr>\n",
       "<tr>\n",
       "  <th>grade_3_Poor</th>        <td>-3.485e-10</td> <td> 2.79e-11</td> <td>  -12.477</td> <td> 0.000</td> <td>-4.03e-10</td> <td>-2.94e-10</td>\n",
       "</tr>\n",
       "<tr>\n",
       "  <th>grade_4_Low</th>         <td>-5.459e+05</td> <td> 4.83e+04</td> <td>  -11.308</td> <td> 0.000</td> <td>-6.41e+05</td> <td>-4.51e+05</td>\n",
       "</tr>\n",
       "<tr>\n",
       "  <th>grade_5_Fair</th>        <td>-6.103e+05</td> <td> 1.93e+04</td> <td>  -31.561</td> <td> 0.000</td> <td>-6.48e+05</td> <td>-5.72e+05</td>\n",
       "</tr>\n",
       "<tr>\n",
       "  <th>grade_6_Low_Average</th> <td> -5.67e+05</td> <td> 1.18e+04</td> <td>  -47.936</td> <td> 0.000</td> <td> -5.9e+05</td> <td>-5.44e+05</td>\n",
       "</tr>\n",
       "<tr>\n",
       "  <th>grade_7_Average</th>     <td>-5.081e+05</td> <td> 9396.258</td> <td>  -54.077</td> <td> 0.000</td> <td>-5.27e+05</td> <td> -4.9e+05</td>\n",
       "</tr>\n",
       "<tr>\n",
       "  <th>grade_8_Good</th>        <td>-4.104e+05</td> <td> 8573.286</td> <td>  -47.868</td> <td> 0.000</td> <td>-4.27e+05</td> <td>-3.94e+05</td>\n",
       "</tr>\n",
       "<tr>\n",
       "  <th>grade_9_Better</th>      <td>-2.312e+05</td> <td> 8794.965</td> <td>  -26.293</td> <td> 0.000</td> <td>-2.48e+05</td> <td>-2.14e+05</td>\n",
       "</tr>\n",
       "<tr>\n",
       "  <th>condition_Fair</th>      <td>-1.534e+04</td> <td> 1.97e+04</td> <td>   -0.780</td> <td> 0.436</td> <td>-5.39e+04</td> <td> 2.32e+04</td>\n",
       "</tr>\n",
       "<tr>\n",
       "  <th>condition_Good</th>      <td>  2.09e+04</td> <td> 4201.396</td> <td>    4.976</td> <td> 0.000</td> <td> 1.27e+04</td> <td> 2.91e+04</td>\n",
       "</tr>\n",
       "<tr>\n",
       "  <th>condition_Poor</th>      <td>-3.825e+04</td> <td> 4.47e+04</td> <td>   -0.857</td> <td> 0.392</td> <td>-1.26e+05</td> <td> 4.93e+04</td>\n",
       "</tr>\n",
       "<tr>\n",
       "  <th>condition_Very_Good</th> <td> 6.321e+04</td> <td> 6815.647</td> <td>    9.274</td> <td> 0.000</td> <td> 4.98e+04</td> <td> 7.66e+04</td>\n",
       "</tr>\n",
       "</table>\n",
       "<table class=\"simpletable\">\n",
       "<tr>\n",
       "  <th>Omnibus:</th>       <td>11167.403</td> <th>  Durbin-Watson:     </th>  <td>   1.996</td> \n",
       "</tr>\n",
       "<tr>\n",
       "  <th>Prob(Omnibus):</th>  <td> 0.000</td>   <th>  Jarque-Bera (JB):  </th> <td>681451.840</td>\n",
       "</tr>\n",
       "<tr>\n",
       "  <th>Skew:</th>           <td> 2.679</td>   <th>  Prob(JB):          </th>  <td>    0.00</td> \n",
       "</tr>\n",
       "<tr>\n",
       "  <th>Kurtosis:</th>       <td>34.369</td>   <th>  Cond. No.          </th>  <td>1.39e+16</td> \n",
       "</tr>\n",
       "</table><br/><br/>Notes:<br/>[1] Standard Errors assume that the covariance matrix of the errors is correctly specified.<br/>[2] The smallest eigenvalue is 2.53e-28. This might indicate that there are<br/>strong multicollinearity problems or that the design matrix is singular."
      ],
      "text/plain": [
       "<class 'statsmodels.iolib.summary.Summary'>\n",
       "\"\"\"\n",
       "                            OLS Regression Results                            \n",
       "==============================================================================\n",
       "Dep. Variable:                  price   R-squared:                       0.665\n",
       "Model:                            OLS   Adj. R-squared:                  0.664\n",
       "Method:                 Least Squares   F-statistic:                     1229.\n",
       "Date:                Thu, 12 May 2022   Prob (F-statistic):               0.00\n",
       "Time:                        19:27:01   Log-Likelihood:            -2.2098e+05\n",
       "No. Observations:               16149   AIC:                         4.420e+05\n",
       "Df Residuals:                   16122   BIC:                         4.422e+05\n",
       "Df Model:                          26                                         \n",
       "Covariance Type:            nonrobust                                         \n",
       "=======================================================================================\n",
       "                          coef    std err          t      P>|t|      [0.025      0.975]\n",
       "---------------------------------------------------------------------------------------\n",
       "const                9.769e+05   1.14e+04     85.749      0.000    9.55e+05    9.99e+05\n",
       "sqft_living          1.013e+05   3877.148     26.129      0.000    9.37e+04    1.09e+05\n",
       "sqft_lot             -2.64e+04   2105.860    -12.538      0.000   -3.05e+04   -2.23e+04\n",
       "yr_built            -8.491e+04   2370.576    -35.820      0.000   -8.96e+04   -8.03e+04\n",
       "bedrooms            -1.626e+04   2312.328     -7.032      0.000   -2.08e+04   -1.17e+04\n",
       "bathrooms             2.29e+04   3118.733      7.341      0.000    1.68e+04     2.9e+04\n",
       "floors               1.179e+04   2478.541      4.758      0.000    6933.505    1.66e+04\n",
       "renovated_2000       1.069e+05   1.32e+04      8.083      0.000     8.1e+04    1.33e+05\n",
       "waterfront           5.722e+05   2.45e+04     23.347      0.000    5.24e+05     6.2e+05\n",
       "has_basement         1.896e+04   4248.492      4.462      0.000    1.06e+04    2.73e+04\n",
       "view_EXCELLENT       2.333e+05   1.87e+04     12.501      0.000    1.97e+05     2.7e+05\n",
       "view_FAIR            6.961e+04   1.59e+04      4.389      0.000    3.85e+04    1.01e+05\n",
       "view_GOOD            4.061e+04   1.38e+04      2.942      0.003    1.36e+04    6.77e+04\n",
       "view_NONE           -6.925e+04   8344.124     -8.299      0.000   -8.56e+04   -5.29e+04\n",
       "grade_11_Excellent    3.65e+05   1.46e+04     25.014      0.000    3.36e+05    3.94e+05\n",
       "grade_12_Luxury      9.057e+05   2.63e+04     34.391      0.000    8.54e+05    9.57e+05\n",
       "grade_13_Mansion     1.853e+06   6.47e+04     28.650      0.000    1.73e+06    1.98e+06\n",
       "grade_3_Poor        -3.485e-10   2.79e-11    -12.477      0.000   -4.03e-10   -2.94e-10\n",
       "grade_4_Low         -5.459e+05   4.83e+04    -11.308      0.000   -6.41e+05   -4.51e+05\n",
       "grade_5_Fair        -6.103e+05   1.93e+04    -31.561      0.000   -6.48e+05   -5.72e+05\n",
       "grade_6_Low_Average  -5.67e+05   1.18e+04    -47.936      0.000    -5.9e+05   -5.44e+05\n",
       "grade_7_Average     -5.081e+05   9396.258    -54.077      0.000   -5.27e+05    -4.9e+05\n",
       "grade_8_Good        -4.104e+05   8573.286    -47.868      0.000   -4.27e+05   -3.94e+05\n",
       "grade_9_Better      -2.312e+05   8794.965    -26.293      0.000   -2.48e+05   -2.14e+05\n",
       "condition_Fair      -1.534e+04   1.97e+04     -0.780      0.436   -5.39e+04    2.32e+04\n",
       "condition_Good        2.09e+04   4201.396      4.976      0.000    1.27e+04    2.91e+04\n",
       "condition_Poor      -3.825e+04   4.47e+04     -0.857      0.392   -1.26e+05    4.93e+04\n",
       "condition_Very_Good  6.321e+04   6815.647      9.274      0.000    4.98e+04    7.66e+04\n",
       "==============================================================================\n",
       "Omnibus:                    11167.403   Durbin-Watson:                   1.996\n",
       "Prob(Omnibus):                  0.000   Jarque-Bera (JB):           681451.840\n",
       "Skew:                           2.679   Prob(JB):                         0.00\n",
       "Kurtosis:                      34.369   Cond. No.                     1.39e+16\n",
       "==============================================================================\n",
       "\n",
       "Notes:\n",
       "[1] Standard Errors assume that the covariance matrix of the errors is correctly specified.\n",
       "[2] The smallest eigenvalue is 2.53e-28. This might indicate that there are\n",
       "strong multicollinearity problems or that the design matrix is singular.\n",
       "\"\"\""
      ]
     },
     "execution_count": 6,
     "metadata": {},
     "output_type": "execute_result"
    }
   ],
   "source": [
    "X_1 = X_train\n",
    "y = y_train\n",
    "\n",
    "model_1_orig = sm.OLS(y, sm.add_constant(X_1)).fit()\n",
    "model_1_orig.summary()"
   ]
  },
  {
   "cell_type": "markdown",
   "metadata": {},
   "source": [
    "### Remove Uninfluential Features\n",
    "\n",
    "The first issue with our model is the number of features. This much potential noise is likely not helping our model properly train itself on the relevant data."
   ]
  },
  {
   "cell_type": "markdown",
   "metadata": {},
   "source": [
    "As our first approach, we use scikit-learn's feature_selection submodule to select only the most important features."
   ]
  },
  {
   "cell_type": "code",
   "execution_count": 7,
   "metadata": {
    "scrolled": true
   },
   "outputs": [
    {
     "name": "stdout",
     "output_type": "stream",
     "text": [
      "['sqft_living', 'sqft_lot', 'yr_built', 'bedrooms', 'bathrooms', 'floors', 'renovated_2000', 'waterfront', 'has_basement', 'view_EXCELLENT', 'view_FAIR', 'view_GOOD', 'view_NONE', 'grade_11_Excellent', 'grade_12_Luxury', 'grade_13_Mansion', 'grade_4_Low', 'grade_5_Fair', 'grade_6_Low_Average', 'grade_7_Average', 'grade_8_Good', 'grade_9_Better', 'condition_Good', 'condition_Very_Good']\n"
     ]
    }
   ],
   "source": [
    "# Importances are based on coefficient magnitude, so\n",
    "# we need to scale the data to normalize the coefficients\n",
    "X_train_for_RFECV = StandardScaler().fit_transform(X_train)\n",
    "\n",
    "# Instantiate and fit the selector\n",
    "selector = RFECV(LinearRegression(), cv=ShuffleSplit(n_splits=3, test_size=0.25, random_state=0))\n",
    "selector.fit(X_train_for_RFECV, y_train)\n",
    "\n",
    "selected_features = []\n",
    "\n",
    "# Relevant Features:\n",
    "for index, col in enumerate(X_train.columns):\n",
    "    if selector.support_[index] == True:\n",
    "        selected_features.append(col)\n",
    "        #print(col)\n",
    "\n",
    "print(selected_features)"
   ]
  },
  {
   "cell_type": "code",
   "execution_count": 8,
   "metadata": {
    "scrolled": false
   },
   "outputs": [
    {
     "data": {
      "text/plain": [
       "Index(['grade_3_Poor', 'condition_Fair', 'condition_Poor'], dtype='object')"
      ]
     },
     "execution_count": 8,
     "metadata": {},
     "output_type": "execute_result"
    }
   ],
   "source": [
    "dropped = X_train.drop(selected_features, axis=1)\n",
    "\n",
    "#see what features were removed\n",
    "dropped.columns"
   ]
  },
  {
   "cell_type": "markdown",
   "metadata": {},
   "source": [
    "Now we rerun the model with only the feature_selector's most important features."
   ]
  },
  {
   "cell_type": "code",
   "execution_count": 9,
   "metadata": {},
   "outputs": [
    {
     "name": "stderr",
     "output_type": "stream",
     "text": [
      "C:\\Users\\moola\\anaconda3\\lib\\site-packages\\statsmodels\\tsa\\tsatools.py:142: FutureWarning: In a future version of pandas all arguments of concat except for the argument 'objs' will be keyword-only\n",
      "  x = pd.concat(x[::order], 1)\n"
     ]
    },
    {
     "data": {
      "text/html": [
       "<table class=\"simpletable\">\n",
       "<caption>OLS Regression Results</caption>\n",
       "<tr>\n",
       "  <th>Dep. Variable:</th>          <td>price</td>      <th>  R-squared:         </th>  <td>   0.665</td>  \n",
       "</tr>\n",
       "<tr>\n",
       "  <th>Model:</th>                   <td>OLS</td>       <th>  Adj. R-squared:    </th>  <td>   0.664</td>  \n",
       "</tr>\n",
       "<tr>\n",
       "  <th>Method:</th>             <td>Least Squares</td>  <th>  F-statistic:       </th>  <td>   1332.</td>  \n",
       "</tr>\n",
       "<tr>\n",
       "  <th>Date:</th>             <td>Thu, 12 May 2022</td> <th>  Prob (F-statistic):</th>   <td>  0.00</td>   \n",
       "</tr>\n",
       "<tr>\n",
       "  <th>Time:</th>                 <td>19:27:03</td>     <th>  Log-Likelihood:    </th> <td>-2.2098e+05</td>\n",
       "</tr>\n",
       "<tr>\n",
       "  <th>No. Observations:</th>      <td> 16149</td>      <th>  AIC:               </th>  <td>4.420e+05</td> \n",
       "</tr>\n",
       "<tr>\n",
       "  <th>Df Residuals:</th>          <td> 16124</td>      <th>  BIC:               </th>  <td>4.422e+05</td> \n",
       "</tr>\n",
       "<tr>\n",
       "  <th>Df Model:</th>              <td>    24</td>      <th>                     </th>      <td> </td>     \n",
       "</tr>\n",
       "<tr>\n",
       "  <th>Covariance Type:</th>      <td>nonrobust</td>    <th>                     </th>      <td> </td>     \n",
       "</tr>\n",
       "</table>\n",
       "<table class=\"simpletable\">\n",
       "<tr>\n",
       "           <td></td>              <th>coef</th>     <th>std err</th>      <th>t</th>      <th>P>|t|</th>  <th>[0.025</th>    <th>0.975]</th>  \n",
       "</tr>\n",
       "<tr>\n",
       "  <th>const</th>               <td> 9.768e+05</td> <td> 1.14e+04</td> <td>   85.745</td> <td> 0.000</td> <td> 9.54e+05</td> <td> 9.99e+05</td>\n",
       "</tr>\n",
       "<tr>\n",
       "  <th>sqft_living</th>         <td> 1.014e+05</td> <td> 3875.478</td> <td>   26.168</td> <td> 0.000</td> <td> 9.38e+04</td> <td> 1.09e+05</td>\n",
       "</tr>\n",
       "<tr>\n",
       "  <th>sqft_lot</th>            <td>-2.653e+04</td> <td> 2102.052</td> <td>  -12.621</td> <td> 0.000</td> <td>-3.07e+04</td> <td>-2.24e+04</td>\n",
       "</tr>\n",
       "<tr>\n",
       "  <th>yr_built</th>            <td>-8.473e+04</td> <td> 2365.148</td> <td>  -35.826</td> <td> 0.000</td> <td>-8.94e+04</td> <td>-8.01e+04</td>\n",
       "</tr>\n",
       "<tr>\n",
       "  <th>bedrooms</th>            <td>-1.626e+04</td> <td> 2312.277</td> <td>   -7.033</td> <td> 0.000</td> <td>-2.08e+04</td> <td>-1.17e+04</td>\n",
       "</tr>\n",
       "<tr>\n",
       "  <th>bathrooms</th>           <td> 2.285e+04</td> <td> 3118.365</td> <td>    7.327</td> <td> 0.000</td> <td> 1.67e+04</td> <td>  2.9e+04</td>\n",
       "</tr>\n",
       "<tr>\n",
       "  <th>floors</th>              <td> 1.179e+04</td> <td> 2478.486</td> <td>    4.757</td> <td> 0.000</td> <td> 6932.183</td> <td> 1.66e+04</td>\n",
       "</tr>\n",
       "<tr>\n",
       "  <th>renovated_2000</th>      <td> 1.073e+05</td> <td> 1.32e+04</td> <td>    8.120</td> <td> 0.000</td> <td> 8.14e+04</td> <td> 1.33e+05</td>\n",
       "</tr>\n",
       "<tr>\n",
       "  <th>waterfront</th>          <td> 5.718e+05</td> <td> 2.45e+04</td> <td>   23.336</td> <td> 0.000</td> <td> 5.24e+05</td> <td>  6.2e+05</td>\n",
       "</tr>\n",
       "<tr>\n",
       "  <th>has_basement</th>        <td> 1.895e+04</td> <td> 4247.637</td> <td>    4.460</td> <td> 0.000</td> <td> 1.06e+04</td> <td> 2.73e+04</td>\n",
       "</tr>\n",
       "<tr>\n",
       "  <th>view_EXCELLENT</th>      <td> 2.333e+05</td> <td> 1.87e+04</td> <td>   12.500</td> <td> 0.000</td> <td> 1.97e+05</td> <td>  2.7e+05</td>\n",
       "</tr>\n",
       "<tr>\n",
       "  <th>view_FAIR</th>           <td> 6.943e+04</td> <td> 1.59e+04</td> <td>    4.379</td> <td> 0.000</td> <td> 3.83e+04</td> <td> 1.01e+05</td>\n",
       "</tr>\n",
       "<tr>\n",
       "  <th>view_GOOD</th>           <td> 4.054e+04</td> <td> 1.38e+04</td> <td>    2.937</td> <td> 0.003</td> <td> 1.35e+04</td> <td> 6.76e+04</td>\n",
       "</tr>\n",
       "<tr>\n",
       "  <th>view_NONE</th>           <td>-6.935e+04</td> <td> 8343.469</td> <td>   -8.312</td> <td> 0.000</td> <td>-8.57e+04</td> <td> -5.3e+04</td>\n",
       "</tr>\n",
       "<tr>\n",
       "  <th>grade_11_Excellent</th>  <td>  3.65e+05</td> <td> 1.46e+04</td> <td>   25.015</td> <td> 0.000</td> <td> 3.36e+05</td> <td> 3.94e+05</td>\n",
       "</tr>\n",
       "<tr>\n",
       "  <th>grade_12_Luxury</th>     <td> 9.057e+05</td> <td> 2.63e+04</td> <td>   34.394</td> <td> 0.000</td> <td> 8.54e+05</td> <td> 9.57e+05</td>\n",
       "</tr>\n",
       "<tr>\n",
       "  <th>grade_13_Mansion</th>    <td> 1.853e+06</td> <td> 6.47e+04</td> <td>   28.650</td> <td> 0.000</td> <td> 1.73e+06</td> <td> 1.98e+06</td>\n",
       "</tr>\n",
       "<tr>\n",
       "  <th>grade_4_Low</th>         <td>-5.502e+05</td> <td> 4.81e+04</td> <td>  -11.434</td> <td> 0.000</td> <td>-6.45e+05</td> <td>-4.56e+05</td>\n",
       "</tr>\n",
       "<tr>\n",
       "  <th>grade_5_Fair</th>        <td> -6.12e+05</td> <td> 1.93e+04</td> <td>  -31.756</td> <td> 0.000</td> <td> -6.5e+05</td> <td>-5.74e+05</td>\n",
       "</tr>\n",
       "<tr>\n",
       "  <th>grade_6_Low_Average</th> <td>-5.673e+05</td> <td> 1.18e+04</td> <td>  -47.984</td> <td> 0.000</td> <td> -5.9e+05</td> <td>-5.44e+05</td>\n",
       "</tr>\n",
       "<tr>\n",
       "  <th>grade_7_Average</th>     <td>-5.082e+05</td> <td> 9395.871</td> <td>  -54.085</td> <td> 0.000</td> <td>-5.27e+05</td> <td> -4.9e+05</td>\n",
       "</tr>\n",
       "<tr>\n",
       "  <th>grade_8_Good</th>        <td>-4.104e+05</td> <td> 8573.022</td> <td>  -47.872</td> <td> 0.000</td> <td>-4.27e+05</td> <td>-3.94e+05</td>\n",
       "</tr>\n",
       "<tr>\n",
       "  <th>grade_9_Better</th>      <td>-2.313e+05</td> <td> 8794.727</td> <td>  -26.298</td> <td> 0.000</td> <td>-2.49e+05</td> <td>-2.14e+05</td>\n",
       "</tr>\n",
       "<tr>\n",
       "  <th>condition_Good</th>      <td> 2.137e+04</td> <td> 4178.168</td> <td>    5.115</td> <td> 0.000</td> <td> 1.32e+04</td> <td> 2.96e+04</td>\n",
       "</tr>\n",
       "<tr>\n",
       "  <th>condition_Very_Good</th> <td> 6.373e+04</td> <td> 6798.171</td> <td>    9.375</td> <td> 0.000</td> <td> 5.04e+04</td> <td> 7.71e+04</td>\n",
       "</tr>\n",
       "</table>\n",
       "<table class=\"simpletable\">\n",
       "<tr>\n",
       "  <th>Omnibus:</th>       <td>11163.723</td> <th>  Durbin-Watson:     </th>  <td>   1.996</td> \n",
       "</tr>\n",
       "<tr>\n",
       "  <th>Prob(Omnibus):</th>  <td> 0.000</td>   <th>  Jarque-Bera (JB):  </th> <td>680928.671</td>\n",
       "</tr>\n",
       "<tr>\n",
       "  <th>Skew:</th>           <td> 2.678</td>   <th>  Prob(JB):          </th>  <td>    0.00</td> \n",
       "</tr>\n",
       "<tr>\n",
       "  <th>Kurtosis:</th>       <td>34.357</td>   <th>  Cond. No.          </th>  <td>    67.4</td> \n",
       "</tr>\n",
       "</table><br/><br/>Notes:<br/>[1] Standard Errors assume that the covariance matrix of the errors is correctly specified."
      ],
      "text/plain": [
       "<class 'statsmodels.iolib.summary.Summary'>\n",
       "\"\"\"\n",
       "                            OLS Regression Results                            \n",
       "==============================================================================\n",
       "Dep. Variable:                  price   R-squared:                       0.665\n",
       "Model:                            OLS   Adj. R-squared:                  0.664\n",
       "Method:                 Least Squares   F-statistic:                     1332.\n",
       "Date:                Thu, 12 May 2022   Prob (F-statistic):               0.00\n",
       "Time:                        19:27:03   Log-Likelihood:            -2.2098e+05\n",
       "No. Observations:               16149   AIC:                         4.420e+05\n",
       "Df Residuals:                   16124   BIC:                         4.422e+05\n",
       "Df Model:                          24                                         \n",
       "Covariance Type:            nonrobust                                         \n",
       "=======================================================================================\n",
       "                          coef    std err          t      P>|t|      [0.025      0.975]\n",
       "---------------------------------------------------------------------------------------\n",
       "const                9.768e+05   1.14e+04     85.745      0.000    9.54e+05    9.99e+05\n",
       "sqft_living          1.014e+05   3875.478     26.168      0.000    9.38e+04    1.09e+05\n",
       "sqft_lot            -2.653e+04   2102.052    -12.621      0.000   -3.07e+04   -2.24e+04\n",
       "yr_built            -8.473e+04   2365.148    -35.826      0.000   -8.94e+04   -8.01e+04\n",
       "bedrooms            -1.626e+04   2312.277     -7.033      0.000   -2.08e+04   -1.17e+04\n",
       "bathrooms            2.285e+04   3118.365      7.327      0.000    1.67e+04     2.9e+04\n",
       "floors               1.179e+04   2478.486      4.757      0.000    6932.183    1.66e+04\n",
       "renovated_2000       1.073e+05   1.32e+04      8.120      0.000    8.14e+04    1.33e+05\n",
       "waterfront           5.718e+05   2.45e+04     23.336      0.000    5.24e+05     6.2e+05\n",
       "has_basement         1.895e+04   4247.637      4.460      0.000    1.06e+04    2.73e+04\n",
       "view_EXCELLENT       2.333e+05   1.87e+04     12.500      0.000    1.97e+05     2.7e+05\n",
       "view_FAIR            6.943e+04   1.59e+04      4.379      0.000    3.83e+04    1.01e+05\n",
       "view_GOOD            4.054e+04   1.38e+04      2.937      0.003    1.35e+04    6.76e+04\n",
       "view_NONE           -6.935e+04   8343.469     -8.312      0.000   -8.57e+04    -5.3e+04\n",
       "grade_11_Excellent    3.65e+05   1.46e+04     25.015      0.000    3.36e+05    3.94e+05\n",
       "grade_12_Luxury      9.057e+05   2.63e+04     34.394      0.000    8.54e+05    9.57e+05\n",
       "grade_13_Mansion     1.853e+06   6.47e+04     28.650      0.000    1.73e+06    1.98e+06\n",
       "grade_4_Low         -5.502e+05   4.81e+04    -11.434      0.000   -6.45e+05   -4.56e+05\n",
       "grade_5_Fair         -6.12e+05   1.93e+04    -31.756      0.000    -6.5e+05   -5.74e+05\n",
       "grade_6_Low_Average -5.673e+05   1.18e+04    -47.984      0.000    -5.9e+05   -5.44e+05\n",
       "grade_7_Average     -5.082e+05   9395.871    -54.085      0.000   -5.27e+05    -4.9e+05\n",
       "grade_8_Good        -4.104e+05   8573.022    -47.872      0.000   -4.27e+05   -3.94e+05\n",
       "grade_9_Better      -2.313e+05   8794.727    -26.298      0.000   -2.49e+05   -2.14e+05\n",
       "condition_Good       2.137e+04   4178.168      5.115      0.000    1.32e+04    2.96e+04\n",
       "condition_Very_Good  6.373e+04   6798.171      9.375      0.000    5.04e+04    7.71e+04\n",
       "==============================================================================\n",
       "Omnibus:                    11163.723   Durbin-Watson:                   1.996\n",
       "Prob(Omnibus):                  0.000   Jarque-Bera (JB):           680928.671\n",
       "Skew:                           2.678   Prob(JB):                         0.00\n",
       "Kurtosis:                      34.357   Cond. No.                         67.4\n",
       "==============================================================================\n",
       "\n",
       "Notes:\n",
       "[1] Standard Errors assume that the covariance matrix of the errors is correctly specified.\n",
       "\"\"\""
      ]
     },
     "execution_count": 9,
     "metadata": {},
     "output_type": "execute_result"
    }
   ],
   "source": [
    "X_2 = X_train[selected_features]\n",
    "\n",
    "model_2_remove_uninfluential = sm.OLS(y, sm.add_constant(X_2)).fit()\n",
    "model_2_remove_uninfluential.summary()"
   ]
  },
  {
   "cell_type": "markdown",
   "metadata": {},
   "source": [
    "This has automaticallt removed all p values above the threshold of 0.05, which is good as we do not have to do it manually. \n",
    "\n",
    "This also yielded roughly the same R squared score, which is good because it means the features we removed were in fact very inconsequential to the outcome of our model."
   ]
  },
  {
   "cell_type": "markdown",
   "metadata": {},
   "source": [
    "### Investigate Multicollinearity\n",
    "\n",
    "The Cond. No is above 30 (which indicates strong multicollinearity) the next step is to check our features for multicollinearity, and remove any features that may be impacting each other in a way that trains our model incorrectly.\n",
    "\n",
    "We need to investigate which features are the most correlated, and then decide which of these to remove from the data in order to prevent multicollinearity"
   ]
  },
  {
   "cell_type": "code",
   "execution_count": 10,
   "metadata": {
    "scrolled": true
   },
   "outputs": [
    {
     "data": {
      "text/html": [
       "<div>\n",
       "<style scoped>\n",
       "    .dataframe tbody tr th:only-of-type {\n",
       "        vertical-align: middle;\n",
       "    }\n",
       "\n",
       "    .dataframe tbody tr th {\n",
       "        vertical-align: top;\n",
       "    }\n",
       "\n",
       "    .dataframe thead th {\n",
       "        text-align: right;\n",
       "    }\n",
       "</style>\n",
       "<table border=\"1\" class=\"dataframe\">\n",
       "  <thead>\n",
       "    <tr style=\"text-align: right;\">\n",
       "      <th></th>\n",
       "      <th>sqft_living</th>\n",
       "      <th>sqft_lot</th>\n",
       "      <th>yr_built</th>\n",
       "      <th>bedrooms</th>\n",
       "      <th>bathrooms</th>\n",
       "      <th>floors</th>\n",
       "      <th>renovated_2000</th>\n",
       "      <th>waterfront</th>\n",
       "      <th>has_basement</th>\n",
       "      <th>view_EXCELLENT</th>\n",
       "      <th>...</th>\n",
       "      <th>grade_12_Luxury</th>\n",
       "      <th>grade_13_Mansion</th>\n",
       "      <th>grade_4_Low</th>\n",
       "      <th>grade_5_Fair</th>\n",
       "      <th>grade_6_Low_Average</th>\n",
       "      <th>grade_7_Average</th>\n",
       "      <th>grade_8_Good</th>\n",
       "      <th>grade_9_Better</th>\n",
       "      <th>condition_Good</th>\n",
       "      <th>condition_Very_Good</th>\n",
       "    </tr>\n",
       "  </thead>\n",
       "  <tbody>\n",
       "    <tr>\n",
       "      <th>sqft_living</th>\n",
       "      <td>1.000000</td>\n",
       "      <td>0.328794</td>\n",
       "      <td>0.351948</td>\n",
       "      <td>0.652068</td>\n",
       "      <td>0.763292</td>\n",
       "      <td>0.396071</td>\n",
       "      <td>0.044469</td>\n",
       "      <td>0.085463</td>\n",
       "      <td>0.233090</td>\n",
       "      <td>0.143397</td>\n",
       "      <td>...</td>\n",
       "      <td>0.163094</td>\n",
       "      <td>0.077641</td>\n",
       "      <td>-0.090868</td>\n",
       "      <td>-0.185671</td>\n",
       "      <td>-0.391861</td>\n",
       "      <td>-0.324112</td>\n",
       "      <td>0.151246</td>\n",
       "      <td>0.330490</td>\n",
       "      <td>-0.080506</td>\n",
       "      <td>-0.017627</td>\n",
       "    </tr>\n",
       "    <tr>\n",
       "      <th>sqft_lot</th>\n",
       "      <td>0.328794</td>\n",
       "      <td>1.000000</td>\n",
       "      <td>-0.006077</td>\n",
       "      <td>0.202972</td>\n",
       "      <td>0.087826</td>\n",
       "      <td>-0.214441</td>\n",
       "      <td>-0.008913</td>\n",
       "      <td>0.074727</td>\n",
       "      <td>-0.048784</td>\n",
       "      <td>0.078648</td>\n",
       "      <td>...</td>\n",
       "      <td>0.101295</td>\n",
       "      <td>0.031110</td>\n",
       "      <td>0.012768</td>\n",
       "      <td>0.021118</td>\n",
       "      <td>-0.019279</td>\n",
       "      <td>-0.075455</td>\n",
       "      <td>-0.098942</td>\n",
       "      <td>0.076658</td>\n",
       "      <td>0.125449</td>\n",
       "      <td>-0.005572</td>\n",
       "    </tr>\n",
       "    <tr>\n",
       "      <th>yr_built</th>\n",
       "      <td>0.351948</td>\n",
       "      <td>-0.006077</td>\n",
       "      <td>1.000000</td>\n",
       "      <td>0.199792</td>\n",
       "      <td>0.534953</td>\n",
       "      <td>0.474481</td>\n",
       "      <td>-0.123900</td>\n",
       "      <td>-0.021563</td>\n",
       "      <td>-0.164290</td>\n",
       "      <td>-0.016140</td>\n",
       "      <td>...</td>\n",
       "      <td>0.051074</td>\n",
       "      <td>0.008263</td>\n",
       "      <td>-0.044038</td>\n",
       "      <td>-0.131708</td>\n",
       "      <td>-0.311836</td>\n",
       "      <td>-0.213763</td>\n",
       "      <td>0.204457</td>\n",
       "      <td>0.216458</td>\n",
       "      <td>-0.256292</td>\n",
       "      <td>-0.245297</td>\n",
       "    </tr>\n",
       "    <tr>\n",
       "      <th>bedrooms</th>\n",
       "      <td>0.652068</td>\n",
       "      <td>0.202972</td>\n",
       "      <td>0.199792</td>\n",
       "      <td>1.000000</td>\n",
       "      <td>0.540399</td>\n",
       "      <td>0.217331</td>\n",
       "      <td>0.034062</td>\n",
       "      <td>-0.006333</td>\n",
       "      <td>0.155752</td>\n",
       "      <td>0.030981</td>\n",
       "      <td>...</td>\n",
       "      <td>0.060345</td>\n",
       "      <td>0.033005</td>\n",
       "      <td>-0.101529</td>\n",
       "      <td>-0.152520</td>\n",
       "      <td>-0.278843</td>\n",
       "      <td>-0.091307</td>\n",
       "      <td>0.093047</td>\n",
       "      <td>0.164031</td>\n",
       "      <td>-0.018454</td>\n",
       "      <td>0.025917</td>\n",
       "    </tr>\n",
       "    <tr>\n",
       "      <th>bathrooms</th>\n",
       "      <td>0.763292</td>\n",
       "      <td>0.087826</td>\n",
       "      <td>0.534953</td>\n",
       "      <td>0.540399</td>\n",
       "      <td>1.000000</td>\n",
       "      <td>0.512944</td>\n",
       "      <td>0.057632</td>\n",
       "      <td>0.050733</td>\n",
       "      <td>0.167496</td>\n",
       "      <td>0.094384</td>\n",
       "      <td>...</td>\n",
       "      <td>0.118855</td>\n",
       "      <td>0.055679</td>\n",
       "      <td>-0.072295</td>\n",
       "      <td>-0.165777</td>\n",
       "      <td>-0.415466</td>\n",
       "      <td>-0.289404</td>\n",
       "      <td>0.241611</td>\n",
       "      <td>0.265774</td>\n",
       "      <td>-0.161818</td>\n",
       "      <td>-0.026405</td>\n",
       "    </tr>\n",
       "    <tr>\n",
       "      <th>floors</th>\n",
       "      <td>0.396071</td>\n",
       "      <td>-0.214441</td>\n",
       "      <td>0.474481</td>\n",
       "      <td>0.217331</td>\n",
       "      <td>0.512944</td>\n",
       "      <td>1.000000</td>\n",
       "      <td>0.010760</td>\n",
       "      <td>0.020177</td>\n",
       "      <td>-0.256180</td>\n",
       "      <td>0.024337</td>\n",
       "      <td>...</td>\n",
       "      <td>0.061472</td>\n",
       "      <td>0.019804</td>\n",
       "      <td>-0.030868</td>\n",
       "      <td>-0.082200</td>\n",
       "      <td>-0.238386</td>\n",
       "      <td>-0.310077</td>\n",
       "      <td>0.195754</td>\n",
       "      <td>0.254673</td>\n",
       "      <td>-0.260746</td>\n",
       "      <td>-0.120948</td>\n",
       "    </tr>\n",
       "    <tr>\n",
       "      <th>renovated_2000</th>\n",
       "      <td>0.044469</td>\n",
       "      <td>-0.008913</td>\n",
       "      <td>-0.123900</td>\n",
       "      <td>0.034062</td>\n",
       "      <td>0.057632</td>\n",
       "      <td>0.010760</td>\n",
       "      <td>1.000000</td>\n",
       "      <td>0.017132</td>\n",
       "      <td>0.047421</td>\n",
       "      <td>0.011312</td>\n",
       "      <td>...</td>\n",
       "      <td>-0.001769</td>\n",
       "      <td>0.014715</td>\n",
       "      <td>-0.004793</td>\n",
       "      <td>-0.009943</td>\n",
       "      <td>-0.008929</td>\n",
       "      <td>-0.033319</td>\n",
       "      <td>0.014149</td>\n",
       "      <td>0.031984</td>\n",
       "      <td>-0.067685</td>\n",
       "      <td>-0.033205</td>\n",
       "    </tr>\n",
       "    <tr>\n",
       "      <th>waterfront</th>\n",
       "      <td>0.085463</td>\n",
       "      <td>0.074727</td>\n",
       "      <td>-0.021563</td>\n",
       "      <td>-0.006333</td>\n",
       "      <td>0.050733</td>\n",
       "      <td>0.020177</td>\n",
       "      <td>0.017132</td>\n",
       "      <td>1.000000</td>\n",
       "      <td>0.039966</td>\n",
       "      <td>0.572790</td>\n",
       "      <td>...</td>\n",
       "      <td>0.094273</td>\n",
       "      <td>-0.002201</td>\n",
       "      <td>-0.003043</td>\n",
       "      <td>0.018527</td>\n",
       "      <td>-0.007057</td>\n",
       "      <td>-0.051163</td>\n",
       "      <td>-0.013756</td>\n",
       "      <td>0.005677</td>\n",
       "      <td>0.004901</td>\n",
       "      <td>0.022545</td>\n",
       "    </tr>\n",
       "    <tr>\n",
       "      <th>has_basement</th>\n",
       "      <td>0.233090</td>\n",
       "      <td>-0.048784</td>\n",
       "      <td>-0.164290</td>\n",
       "      <td>0.155752</td>\n",
       "      <td>0.167496</td>\n",
       "      <td>-0.256180</td>\n",
       "      <td>0.047421</td>\n",
       "      <td>0.039966</td>\n",
       "      <td>1.000000</td>\n",
       "      <td>0.078960</td>\n",
       "      <td>...</td>\n",
       "      <td>0.014115</td>\n",
       "      <td>0.018455</td>\n",
       "      <td>-0.024929</td>\n",
       "      <td>-0.069903</td>\n",
       "      <td>-0.096761</td>\n",
       "      <td>0.054380</td>\n",
       "      <td>0.042994</td>\n",
       "      <td>-0.033681</td>\n",
       "      <td>0.074747</td>\n",
       "      <td>0.097779</td>\n",
       "    </tr>\n",
       "    <tr>\n",
       "      <th>view_EXCELLENT</th>\n",
       "      <td>0.143397</td>\n",
       "      <td>0.078648</td>\n",
       "      <td>-0.016140</td>\n",
       "      <td>0.030981</td>\n",
       "      <td>0.094384</td>\n",
       "      <td>0.024337</td>\n",
       "      <td>0.011312</td>\n",
       "      <td>0.572790</td>\n",
       "      <td>0.078960</td>\n",
       "      <td>1.000000</td>\n",
       "      <td>...</td>\n",
       "      <td>0.130655</td>\n",
       "      <td>0.055896</td>\n",
       "      <td>-0.004413</td>\n",
       "      <td>0.005976</td>\n",
       "      <td>-0.023755</td>\n",
       "      <td>-0.080622</td>\n",
       "      <td>-0.020074</td>\n",
       "      <td>0.044152</td>\n",
       "      <td>0.011896</td>\n",
       "      <td>0.031759</td>\n",
       "    </tr>\n",
       "    <tr>\n",
       "      <th>view_FAIR</th>\n",
       "      <td>0.062883</td>\n",
       "      <td>0.019974</td>\n",
       "      <td>-0.031666</td>\n",
       "      <td>0.015910</td>\n",
       "      <td>0.033748</td>\n",
       "      <td>-0.023074</td>\n",
       "      <td>0.018971</td>\n",
       "      <td>-0.004244</td>\n",
       "      <td>0.086248</td>\n",
       "      <td>-0.015022</td>\n",
       "      <td>...</td>\n",
       "      <td>-0.000538</td>\n",
       "      <td>-0.003207</td>\n",
       "      <td>0.009769</td>\n",
       "      <td>-0.003727</td>\n",
       "      <td>-0.018744</td>\n",
       "      <td>-0.033333</td>\n",
       "      <td>0.011138</td>\n",
       "      <td>0.021433</td>\n",
       "      <td>0.012396</td>\n",
       "      <td>0.010289</td>\n",
       "    </tr>\n",
       "    <tr>\n",
       "      <th>view_GOOD</th>\n",
       "      <td>0.138139</td>\n",
       "      <td>0.072113</td>\n",
       "      <td>-0.019488</td>\n",
       "      <td>0.056181</td>\n",
       "      <td>0.093439</td>\n",
       "      <td>0.021201</td>\n",
       "      <td>0.025200</td>\n",
       "      <td>0.047688</td>\n",
       "      <td>0.094471</td>\n",
       "      <td>-0.018389</td>\n",
       "      <td>...</td>\n",
       "      <td>0.034189</td>\n",
       "      <td>0.012217</td>\n",
       "      <td>-0.005425</td>\n",
       "      <td>-0.012337</td>\n",
       "      <td>-0.034238</td>\n",
       "      <td>-0.078155</td>\n",
       "      <td>-0.001331</td>\n",
       "      <td>0.062094</td>\n",
       "      <td>0.017013</td>\n",
       "      <td>-0.001101</td>\n",
       "    </tr>\n",
       "    <tr>\n",
       "      <th>view_NONE</th>\n",
       "      <td>-0.237307</td>\n",
       "      <td>-0.116269</td>\n",
       "      <td>0.061003</td>\n",
       "      <td>-0.072484</td>\n",
       "      <td>-0.150720</td>\n",
       "      <td>-0.017206</td>\n",
       "      <td>-0.035710</td>\n",
       "      <td>-0.258955</td>\n",
       "      <td>-0.184822</td>\n",
       "      <td>-0.375617</td>\n",
       "      <td>...</td>\n",
       "      <td>-0.091869</td>\n",
       "      <td>-0.047934</td>\n",
       "      <td>0.000076</td>\n",
       "      <td>0.011650</td>\n",
       "      <td>0.057163</td>\n",
       "      <td>0.141407</td>\n",
       "      <td>-0.009891</td>\n",
       "      <td>-0.095271</td>\n",
       "      <td>-0.026990</td>\n",
       "      <td>-0.032150</td>\n",
       "    </tr>\n",
       "    <tr>\n",
       "      <th>grade_11_Excellent</th>\n",
       "      <td>0.257257</td>\n",
       "      <td>0.131427</td>\n",
       "      <td>0.094938</td>\n",
       "      <td>0.112190</td>\n",
       "      <td>0.188825</td>\n",
       "      <td>0.115791</td>\n",
       "      <td>0.000274</td>\n",
       "      <td>0.078751</td>\n",
       "      <td>0.008788</td>\n",
       "      <td>0.081376</td>\n",
       "      <td>...</td>\n",
       "      <td>-0.008954</td>\n",
       "      <td>-0.003493</td>\n",
       "      <td>-0.004828</td>\n",
       "      <td>-0.014482</td>\n",
       "      <td>-0.043268</td>\n",
       "      <td>-0.112176</td>\n",
       "      <td>-0.084286</td>\n",
       "      <td>-0.049075</td>\n",
       "      <td>-0.034137</td>\n",
       "      <td>-0.022955</td>\n",
       "    </tr>\n",
       "    <tr>\n",
       "      <th>grade_12_Luxury</th>\n",
       "      <td>0.163094</td>\n",
       "      <td>0.101295</td>\n",
       "      <td>0.051074</td>\n",
       "      <td>0.060345</td>\n",
       "      <td>0.118855</td>\n",
       "      <td>0.061472</td>\n",
       "      <td>-0.001769</td>\n",
       "      <td>0.094273</td>\n",
       "      <td>0.014115</td>\n",
       "      <td>0.130655</td>\n",
       "      <td>...</td>\n",
       "      <td>1.000000</td>\n",
       "      <td>-0.001747</td>\n",
       "      <td>-0.002415</td>\n",
       "      <td>-0.007243</td>\n",
       "      <td>-0.021642</td>\n",
       "      <td>-0.056108</td>\n",
       "      <td>-0.042158</td>\n",
       "      <td>-0.024546</td>\n",
       "      <td>-0.014758</td>\n",
       "      <td>-0.015935</td>\n",
       "    </tr>\n",
       "    <tr>\n",
       "      <th>grade_13_Mansion</th>\n",
       "      <td>0.077641</td>\n",
       "      <td>0.031110</td>\n",
       "      <td>0.008263</td>\n",
       "      <td>0.033005</td>\n",
       "      <td>0.055679</td>\n",
       "      <td>0.019804</td>\n",
       "      <td>0.014715</td>\n",
       "      <td>-0.002201</td>\n",
       "      <td>0.018455</td>\n",
       "      <td>0.055896</td>\n",
       "      <td>...</td>\n",
       "      <td>-0.001747</td>\n",
       "      <td>1.000000</td>\n",
       "      <td>-0.000942</td>\n",
       "      <td>-0.002826</td>\n",
       "      <td>-0.008443</td>\n",
       "      <td>-0.021889</td>\n",
       "      <td>-0.016447</td>\n",
       "      <td>-0.009576</td>\n",
       "      <td>-0.010245</td>\n",
       "      <td>-0.007572</td>\n",
       "    </tr>\n",
       "    <tr>\n",
       "      <th>grade_4_Low</th>\n",
       "      <td>-0.090868</td>\n",
       "      <td>0.012768</td>\n",
       "      <td>-0.044038</td>\n",
       "      <td>-0.101529</td>\n",
       "      <td>-0.072295</td>\n",
       "      <td>-0.030868</td>\n",
       "      <td>-0.004793</td>\n",
       "      <td>-0.003043</td>\n",
       "      <td>-0.024929</td>\n",
       "      <td>-0.004413</td>\n",
       "      <td>...</td>\n",
       "      <td>-0.002415</td>\n",
       "      <td>-0.000942</td>\n",
       "      <td>1.000000</td>\n",
       "      <td>-0.003906</td>\n",
       "      <td>-0.011669</td>\n",
       "      <td>-0.030254</td>\n",
       "      <td>-0.022732</td>\n",
       "      <td>-0.013235</td>\n",
       "      <td>0.013486</td>\n",
       "      <td>-0.010466</td>\n",
       "    </tr>\n",
       "    <tr>\n",
       "      <th>grade_5_Fair</th>\n",
       "      <td>-0.185671</td>\n",
       "      <td>0.021118</td>\n",
       "      <td>-0.131708</td>\n",
       "      <td>-0.152520</td>\n",
       "      <td>-0.165777</td>\n",
       "      <td>-0.082200</td>\n",
       "      <td>-0.009943</td>\n",
       "      <td>0.018527</td>\n",
       "      <td>-0.069903</td>\n",
       "      <td>0.005976</td>\n",
       "      <td>...</td>\n",
       "      <td>-0.007243</td>\n",
       "      <td>-0.002826</td>\n",
       "      <td>-0.003906</td>\n",
       "      <td>1.000000</td>\n",
       "      <td>-0.035003</td>\n",
       "      <td>-0.090748</td>\n",
       "      <td>-0.068185</td>\n",
       "      <td>-0.039701</td>\n",
       "      <td>0.019252</td>\n",
       "      <td>0.024861</td>\n",
       "    </tr>\n",
       "    <tr>\n",
       "      <th>grade_6_Low_Average</th>\n",
       "      <td>-0.391861</td>\n",
       "      <td>-0.019279</td>\n",
       "      <td>-0.311836</td>\n",
       "      <td>-0.278843</td>\n",
       "      <td>-0.415466</td>\n",
       "      <td>-0.238386</td>\n",
       "      <td>-0.008929</td>\n",
       "      <td>-0.007057</td>\n",
       "      <td>-0.096761</td>\n",
       "      <td>-0.023755</td>\n",
       "      <td>...</td>\n",
       "      <td>-0.021642</td>\n",
       "      <td>-0.008443</td>\n",
       "      <td>-0.011669</td>\n",
       "      <td>-0.035003</td>\n",
       "      <td>1.000000</td>\n",
       "      <td>-0.271138</td>\n",
       "      <td>-0.203725</td>\n",
       "      <td>-0.118618</td>\n",
       "      <td>0.060260</td>\n",
       "      <td>0.052468</td>\n",
       "    </tr>\n",
       "    <tr>\n",
       "      <th>grade_7_Average</th>\n",
       "      <td>-0.324112</td>\n",
       "      <td>-0.075455</td>\n",
       "      <td>-0.213763</td>\n",
       "      <td>-0.091307</td>\n",
       "      <td>-0.289404</td>\n",
       "      <td>-0.310077</td>\n",
       "      <td>-0.033319</td>\n",
       "      <td>-0.051163</td>\n",
       "      <td>0.054380</td>\n",
       "      <td>-0.080622</td>\n",
       "      <td>...</td>\n",
       "      <td>-0.056108</td>\n",
       "      <td>-0.021889</td>\n",
       "      <td>-0.030254</td>\n",
       "      <td>-0.090748</td>\n",
       "      <td>-0.271138</td>\n",
       "      <td>1.000000</td>\n",
       "      <td>-0.528170</td>\n",
       "      <td>-0.307525</td>\n",
       "      <td>0.102493</td>\n",
       "      <td>0.043152</td>\n",
       "    </tr>\n",
       "    <tr>\n",
       "      <th>grade_8_Good</th>\n",
       "      <td>0.151246</td>\n",
       "      <td>-0.098942</td>\n",
       "      <td>0.204457</td>\n",
       "      <td>0.093047</td>\n",
       "      <td>0.241611</td>\n",
       "      <td>0.195754</td>\n",
       "      <td>0.014149</td>\n",
       "      <td>-0.013756</td>\n",
       "      <td>0.042994</td>\n",
       "      <td>-0.020074</td>\n",
       "      <td>...</td>\n",
       "      <td>-0.042158</td>\n",
       "      <td>-0.016447</td>\n",
       "      <td>-0.022732</td>\n",
       "      <td>-0.068185</td>\n",
       "      <td>-0.203725</td>\n",
       "      <td>-0.528170</td>\n",
       "      <td>1.000000</td>\n",
       "      <td>-0.231065</td>\n",
       "      <td>-0.057190</td>\n",
       "      <td>-0.032326</td>\n",
       "    </tr>\n",
       "    <tr>\n",
       "      <th>grade_9_Better</th>\n",
       "      <td>0.330490</td>\n",
       "      <td>0.076658</td>\n",
       "      <td>0.216458</td>\n",
       "      <td>0.164031</td>\n",
       "      <td>0.265774</td>\n",
       "      <td>0.254673</td>\n",
       "      <td>0.031984</td>\n",
       "      <td>0.005677</td>\n",
       "      <td>-0.033681</td>\n",
       "      <td>0.044152</td>\n",
       "      <td>...</td>\n",
       "      <td>-0.024546</td>\n",
       "      <td>-0.009576</td>\n",
       "      <td>-0.013235</td>\n",
       "      <td>-0.039701</td>\n",
       "      <td>-0.118618</td>\n",
       "      <td>-0.307525</td>\n",
       "      <td>-0.231065</td>\n",
       "      <td>1.000000</td>\n",
       "      <td>-0.070962</td>\n",
       "      <td>-0.043376</td>\n",
       "    </tr>\n",
       "    <tr>\n",
       "      <th>condition_Good</th>\n",
       "      <td>-0.080506</td>\n",
       "      <td>0.125449</td>\n",
       "      <td>-0.256292</td>\n",
       "      <td>-0.018454</td>\n",
       "      <td>-0.161818</td>\n",
       "      <td>-0.260746</td>\n",
       "      <td>-0.067685</td>\n",
       "      <td>0.004901</td>\n",
       "      <td>0.074747</td>\n",
       "      <td>0.011896</td>\n",
       "      <td>...</td>\n",
       "      <td>-0.014758</td>\n",
       "      <td>-0.010245</td>\n",
       "      <td>0.013486</td>\n",
       "      <td>0.019252</td>\n",
       "      <td>0.060260</td>\n",
       "      <td>0.102493</td>\n",
       "      <td>-0.057190</td>\n",
       "      <td>-0.070962</td>\n",
       "      <td>1.000000</td>\n",
       "      <td>-0.173637</td>\n",
       "    </tr>\n",
       "    <tr>\n",
       "      <th>condition_Very_Good</th>\n",
       "      <td>-0.017627</td>\n",
       "      <td>-0.005572</td>\n",
       "      <td>-0.245297</td>\n",
       "      <td>0.025917</td>\n",
       "      <td>-0.026405</td>\n",
       "      <td>-0.120948</td>\n",
       "      <td>-0.033205</td>\n",
       "      <td>0.022545</td>\n",
       "      <td>0.097779</td>\n",
       "      <td>0.031759</td>\n",
       "      <td>...</td>\n",
       "      <td>-0.015935</td>\n",
       "      <td>-0.007572</td>\n",
       "      <td>-0.010466</td>\n",
       "      <td>0.024861</td>\n",
       "      <td>0.052468</td>\n",
       "      <td>0.043152</td>\n",
       "      <td>-0.032326</td>\n",
       "      <td>-0.043376</td>\n",
       "      <td>-0.173637</td>\n",
       "      <td>1.000000</td>\n",
       "    </tr>\n",
       "  </tbody>\n",
       "</table>\n",
       "<p>24 rows × 24 columns</p>\n",
       "</div>"
      ],
      "text/plain": [
       "                     sqft_living  sqft_lot  yr_built  bedrooms  bathrooms  \\\n",
       "sqft_living             1.000000  0.328794  0.351948  0.652068   0.763292   \n",
       "sqft_lot                0.328794  1.000000 -0.006077  0.202972   0.087826   \n",
       "yr_built                0.351948 -0.006077  1.000000  0.199792   0.534953   \n",
       "bedrooms                0.652068  0.202972  0.199792  1.000000   0.540399   \n",
       "bathrooms               0.763292  0.087826  0.534953  0.540399   1.000000   \n",
       "floors                  0.396071 -0.214441  0.474481  0.217331   0.512944   \n",
       "renovated_2000          0.044469 -0.008913 -0.123900  0.034062   0.057632   \n",
       "waterfront              0.085463  0.074727 -0.021563 -0.006333   0.050733   \n",
       "has_basement            0.233090 -0.048784 -0.164290  0.155752   0.167496   \n",
       "view_EXCELLENT          0.143397  0.078648 -0.016140  0.030981   0.094384   \n",
       "view_FAIR               0.062883  0.019974 -0.031666  0.015910   0.033748   \n",
       "view_GOOD               0.138139  0.072113 -0.019488  0.056181   0.093439   \n",
       "view_NONE              -0.237307 -0.116269  0.061003 -0.072484  -0.150720   \n",
       "grade_11_Excellent      0.257257  0.131427  0.094938  0.112190   0.188825   \n",
       "grade_12_Luxury         0.163094  0.101295  0.051074  0.060345   0.118855   \n",
       "grade_13_Mansion        0.077641  0.031110  0.008263  0.033005   0.055679   \n",
       "grade_4_Low            -0.090868  0.012768 -0.044038 -0.101529  -0.072295   \n",
       "grade_5_Fair           -0.185671  0.021118 -0.131708 -0.152520  -0.165777   \n",
       "grade_6_Low_Average    -0.391861 -0.019279 -0.311836 -0.278843  -0.415466   \n",
       "grade_7_Average        -0.324112 -0.075455 -0.213763 -0.091307  -0.289404   \n",
       "grade_8_Good            0.151246 -0.098942  0.204457  0.093047   0.241611   \n",
       "grade_9_Better          0.330490  0.076658  0.216458  0.164031   0.265774   \n",
       "condition_Good         -0.080506  0.125449 -0.256292 -0.018454  -0.161818   \n",
       "condition_Very_Good    -0.017627 -0.005572 -0.245297  0.025917  -0.026405   \n",
       "\n",
       "                       floors  renovated_2000  waterfront  has_basement  \\\n",
       "sqft_living          0.396071        0.044469    0.085463      0.233090   \n",
       "sqft_lot            -0.214441       -0.008913    0.074727     -0.048784   \n",
       "yr_built             0.474481       -0.123900   -0.021563     -0.164290   \n",
       "bedrooms             0.217331        0.034062   -0.006333      0.155752   \n",
       "bathrooms            0.512944        0.057632    0.050733      0.167496   \n",
       "floors               1.000000        0.010760    0.020177     -0.256180   \n",
       "renovated_2000       0.010760        1.000000    0.017132      0.047421   \n",
       "waterfront           0.020177        0.017132    1.000000      0.039966   \n",
       "has_basement        -0.256180        0.047421    0.039966      1.000000   \n",
       "view_EXCELLENT       0.024337        0.011312    0.572790      0.078960   \n",
       "view_FAIR           -0.023074        0.018971   -0.004244      0.086248   \n",
       "view_GOOD            0.021201        0.025200    0.047688      0.094471   \n",
       "view_NONE           -0.017206       -0.035710   -0.258955     -0.184822   \n",
       "grade_11_Excellent   0.115791        0.000274    0.078751      0.008788   \n",
       "grade_12_Luxury      0.061472       -0.001769    0.094273      0.014115   \n",
       "grade_13_Mansion     0.019804        0.014715   -0.002201      0.018455   \n",
       "grade_4_Low         -0.030868       -0.004793   -0.003043     -0.024929   \n",
       "grade_5_Fair        -0.082200       -0.009943    0.018527     -0.069903   \n",
       "grade_6_Low_Average -0.238386       -0.008929   -0.007057     -0.096761   \n",
       "grade_7_Average     -0.310077       -0.033319   -0.051163      0.054380   \n",
       "grade_8_Good         0.195754        0.014149   -0.013756      0.042994   \n",
       "grade_9_Better       0.254673        0.031984    0.005677     -0.033681   \n",
       "condition_Good      -0.260746       -0.067685    0.004901      0.074747   \n",
       "condition_Very_Good -0.120948       -0.033205    0.022545      0.097779   \n",
       "\n",
       "                     view_EXCELLENT  ...  grade_12_Luxury  grade_13_Mansion  \\\n",
       "sqft_living                0.143397  ...         0.163094          0.077641   \n",
       "sqft_lot                   0.078648  ...         0.101295          0.031110   \n",
       "yr_built                  -0.016140  ...         0.051074          0.008263   \n",
       "bedrooms                   0.030981  ...         0.060345          0.033005   \n",
       "bathrooms                  0.094384  ...         0.118855          0.055679   \n",
       "floors                     0.024337  ...         0.061472          0.019804   \n",
       "renovated_2000             0.011312  ...        -0.001769          0.014715   \n",
       "waterfront                 0.572790  ...         0.094273         -0.002201   \n",
       "has_basement               0.078960  ...         0.014115          0.018455   \n",
       "view_EXCELLENT             1.000000  ...         0.130655          0.055896   \n",
       "view_FAIR                 -0.015022  ...        -0.000538         -0.003207   \n",
       "view_GOOD                 -0.018389  ...         0.034189          0.012217   \n",
       "view_NONE                 -0.375617  ...        -0.091869         -0.047934   \n",
       "grade_11_Excellent         0.081376  ...        -0.008954         -0.003493   \n",
       "grade_12_Luxury            0.130655  ...         1.000000         -0.001747   \n",
       "grade_13_Mansion           0.055896  ...        -0.001747          1.000000   \n",
       "grade_4_Low               -0.004413  ...        -0.002415         -0.000942   \n",
       "grade_5_Fair               0.005976  ...        -0.007243         -0.002826   \n",
       "grade_6_Low_Average       -0.023755  ...        -0.021642         -0.008443   \n",
       "grade_7_Average           -0.080622  ...        -0.056108         -0.021889   \n",
       "grade_8_Good              -0.020074  ...        -0.042158         -0.016447   \n",
       "grade_9_Better             0.044152  ...        -0.024546         -0.009576   \n",
       "condition_Good             0.011896  ...        -0.014758         -0.010245   \n",
       "condition_Very_Good        0.031759  ...        -0.015935         -0.007572   \n",
       "\n",
       "                     grade_4_Low  grade_5_Fair  grade_6_Low_Average  \\\n",
       "sqft_living            -0.090868     -0.185671            -0.391861   \n",
       "sqft_lot                0.012768      0.021118            -0.019279   \n",
       "yr_built               -0.044038     -0.131708            -0.311836   \n",
       "bedrooms               -0.101529     -0.152520            -0.278843   \n",
       "bathrooms              -0.072295     -0.165777            -0.415466   \n",
       "floors                 -0.030868     -0.082200            -0.238386   \n",
       "renovated_2000         -0.004793     -0.009943            -0.008929   \n",
       "waterfront             -0.003043      0.018527            -0.007057   \n",
       "has_basement           -0.024929     -0.069903            -0.096761   \n",
       "view_EXCELLENT         -0.004413      0.005976            -0.023755   \n",
       "view_FAIR               0.009769     -0.003727            -0.018744   \n",
       "view_GOOD              -0.005425     -0.012337            -0.034238   \n",
       "view_NONE               0.000076      0.011650             0.057163   \n",
       "grade_11_Excellent     -0.004828     -0.014482            -0.043268   \n",
       "grade_12_Luxury        -0.002415     -0.007243            -0.021642   \n",
       "grade_13_Mansion       -0.000942     -0.002826            -0.008443   \n",
       "grade_4_Low             1.000000     -0.003906            -0.011669   \n",
       "grade_5_Fair           -0.003906      1.000000            -0.035003   \n",
       "grade_6_Low_Average    -0.011669     -0.035003             1.000000   \n",
       "grade_7_Average        -0.030254     -0.090748            -0.271138   \n",
       "grade_8_Good           -0.022732     -0.068185            -0.203725   \n",
       "grade_9_Better         -0.013235     -0.039701            -0.118618   \n",
       "condition_Good          0.013486      0.019252             0.060260   \n",
       "condition_Very_Good    -0.010466      0.024861             0.052468   \n",
       "\n",
       "                     grade_7_Average  grade_8_Good  grade_9_Better  \\\n",
       "sqft_living                -0.324112      0.151246        0.330490   \n",
       "sqft_lot                   -0.075455     -0.098942        0.076658   \n",
       "yr_built                   -0.213763      0.204457        0.216458   \n",
       "bedrooms                   -0.091307      0.093047        0.164031   \n",
       "bathrooms                  -0.289404      0.241611        0.265774   \n",
       "floors                     -0.310077      0.195754        0.254673   \n",
       "renovated_2000             -0.033319      0.014149        0.031984   \n",
       "waterfront                 -0.051163     -0.013756        0.005677   \n",
       "has_basement                0.054380      0.042994       -0.033681   \n",
       "view_EXCELLENT             -0.080622     -0.020074        0.044152   \n",
       "view_FAIR                  -0.033333      0.011138        0.021433   \n",
       "view_GOOD                  -0.078155     -0.001331        0.062094   \n",
       "view_NONE                   0.141407     -0.009891       -0.095271   \n",
       "grade_11_Excellent         -0.112176     -0.084286       -0.049075   \n",
       "grade_12_Luxury            -0.056108     -0.042158       -0.024546   \n",
       "grade_13_Mansion           -0.021889     -0.016447       -0.009576   \n",
       "grade_4_Low                -0.030254     -0.022732       -0.013235   \n",
       "grade_5_Fair               -0.090748     -0.068185       -0.039701   \n",
       "grade_6_Low_Average        -0.271138     -0.203725       -0.118618   \n",
       "grade_7_Average             1.000000     -0.528170       -0.307525   \n",
       "grade_8_Good               -0.528170      1.000000       -0.231065   \n",
       "grade_9_Better             -0.307525     -0.231065        1.000000   \n",
       "condition_Good              0.102493     -0.057190       -0.070962   \n",
       "condition_Very_Good         0.043152     -0.032326       -0.043376   \n",
       "\n",
       "                     condition_Good  condition_Very_Good  \n",
       "sqft_living               -0.080506            -0.017627  \n",
       "sqft_lot                   0.125449            -0.005572  \n",
       "yr_built                  -0.256292            -0.245297  \n",
       "bedrooms                  -0.018454             0.025917  \n",
       "bathrooms                 -0.161818            -0.026405  \n",
       "floors                    -0.260746            -0.120948  \n",
       "renovated_2000            -0.067685            -0.033205  \n",
       "waterfront                 0.004901             0.022545  \n",
       "has_basement               0.074747             0.097779  \n",
       "view_EXCELLENT             0.011896             0.031759  \n",
       "view_FAIR                  0.012396             0.010289  \n",
       "view_GOOD                  0.017013            -0.001101  \n",
       "view_NONE                 -0.026990            -0.032150  \n",
       "grade_11_Excellent        -0.034137            -0.022955  \n",
       "grade_12_Luxury           -0.014758            -0.015935  \n",
       "grade_13_Mansion          -0.010245            -0.007572  \n",
       "grade_4_Low                0.013486            -0.010466  \n",
       "grade_5_Fair               0.019252             0.024861  \n",
       "grade_6_Low_Average        0.060260             0.052468  \n",
       "grade_7_Average            0.102493             0.043152  \n",
       "grade_8_Good              -0.057190            -0.032326  \n",
       "grade_9_Better            -0.070962            -0.043376  \n",
       "condition_Good             1.000000            -0.173637  \n",
       "condition_Very_Good       -0.173637             1.000000  \n",
       "\n",
       "[24 rows x 24 columns]"
      ]
     },
     "execution_count": 10,
     "metadata": {},
     "output_type": "execute_result"
    }
   ],
   "source": [
    "corr = X_2.corr()\n",
    "corr"
   ]
  },
  {
   "cell_type": "code",
   "execution_count": 11,
   "metadata": {},
   "outputs": [],
   "source": [
    "sns.set(rc = {'figure.figsize':(20,20)})"
   ]
  },
  {
   "cell_type": "code",
   "execution_count": 12,
   "metadata": {
    "scrolled": false
   },
   "outputs": [
    {
     "data": {
      "image/png": "[encoded data removed]",
      "text/plain": [
       "<Figure size 1440x1440 with 2 Axes>"
      ]
     },
     "metadata": {},
     "output_type": "display_data"
    }
   ],
   "source": [
    "mask = np.zeros_like(corr, dtype=bool)\n",
    "mask[np.triu_indices_from(mask)] = True\n",
    "\n",
    "sns.heatmap(corr, annot = True, mask=mask);"
   ]
  },
  {
   "cell_type": "markdown",
   "metadata": {},
   "source": [
    "We still have far too many features to just visually identify which combinations are contributing the most to multicollinearity. "
   ]
  },
  {
   "cell_type": "code",
   "execution_count": 13,
   "metadata": {
    "scrolled": false
   },
   "outputs": [
    {
     "data": {
      "text/plain": [
       "sqft_living     bathrooms         0.763292\n",
       "bathrooms       sqft_living       0.763292\n",
       "sqft_living     bedrooms          0.652068\n",
       "bedrooms        sqft_living       0.652068\n",
       "waterfront      view_EXCELLENT    0.572790\n",
       "view_EXCELLENT  waterfront        0.572790\n",
       "bathrooms       bedrooms          0.540399\n",
       "bedrooms        bathrooms         0.540399\n",
       "yr_built        bathrooms         0.534953\n",
       "bathrooms       yr_built          0.534953\n",
       "                floors            0.512944\n",
       "floors          bathrooms         0.512944\n",
       "yr_built        floors            0.474481\n",
       "floors          yr_built          0.474481\n",
       "sqft_living     floors            0.396071\n",
       "floors          sqft_living       0.396071\n",
       "yr_built        sqft_living       0.351948\n",
       "sqft_living     yr_built          0.351948\n",
       "grade_9_Better  sqft_living       0.330490\n",
       "sqft_living     grade_9_Better    0.330490\n",
       "dtype: float64"
      ]
     },
     "execution_count": 13,
     "metadata": {},
     "output_type": "execute_result"
    }
   ],
   "source": [
    "#remove correlation of features with themselves\n",
    "corr = corr[corr < 1]\n",
    "\n",
    "#top positively correlated\n",
    "corr[corr < 1].unstack().sort_values(ascending=False)[:20]"
   ]
  },
  {
   "cell_type": "markdown",
   "metadata": {},
   "source": [
    "The above list of values shows the most positively correlated pairings of features. Ideally we would remove one of each of the features with the strongest collinearity.\n",
    "\n",
    "We can see that things like bedrooms and sqftliving are strongly correlated. We can experiment with removing these features later, but for now we keep them because they are recognizable as potentially important features of the pricing of a home.\n",
    "\n",
    "We want to remove features we see a many times, and can probably attempt to remove bathrooms, as they are a strongly correlated feature with both sqft_living and bedrooms, which makes sense in real-life terms as well (larger homes with more bedrooms are likely to have more bathrooms, etc). Similarly, we can try removing view_excellent because it seems to heavily correlate with being on a waterfront."
   ]
  },
  {
   "cell_type": "code",
   "execution_count": 14,
   "metadata": {
    "scrolled": true
   },
   "outputs": [],
   "source": [
    "items_to_drop = ['bathrooms', 'view_EXCELLENT', 'floors']"
   ]
  },
  {
   "cell_type": "code",
   "execution_count": 15,
   "metadata": {},
   "outputs": [
    {
     "data": {
      "text/plain": [
       "grade_8_Good         grade_7_Average       -0.528170\n",
       "grade_7_Average      grade_8_Good          -0.528170\n",
       "view_NONE            view_GOOD             -0.461765\n",
       "view_GOOD            view_NONE             -0.461765\n",
       "grade_6_Low_Average  bathrooms             -0.415466\n",
       "bathrooms            grade_6_Low_Average   -0.415466\n",
       "sqft_living          grade_6_Low_Average   -0.391861\n",
       "grade_6_Low_Average  sqft_living           -0.391861\n",
       "view_NONE            view_FAIR             -0.377216\n",
       "view_FAIR            view_NONE             -0.377216\n",
       "view_NONE            view_EXCELLENT        -0.375617\n",
       "view_EXCELLENT       view_NONE             -0.375617\n",
       "sqft_living          grade_7_Average       -0.324112\n",
       "grade_7_Average      sqft_living           -0.324112\n",
       "yr_built             grade_6_Low_Average   -0.311836\n",
       "grade_6_Low_Average  yr_built              -0.311836\n",
       "grade_7_Average      floors                -0.310077\n",
       "floors               grade_7_Average       -0.310077\n",
       "grade_7_Average      grade_9_Better        -0.307525\n",
       "grade_9_Better       grade_7_Average       -0.307525\n",
       "dtype: float64"
      ]
     },
     "execution_count": 15,
     "metadata": {},
     "output_type": "execute_result"
    }
   ],
   "source": [
    "#negatively correlated\n",
    "corr.unstack().sort_values(ascending=True)[:20]"
   ]
  },
  {
   "cell_type": "markdown",
   "metadata": {},
   "source": [
    "Next, doing the same thing with negatively correlated values (values which inverseley strongly affect each other), we'll try getting rid of grade_7_average, grade_6_low_average, and view_none."
   ]
  },
  {
   "cell_type": "code",
   "execution_count": 16,
   "metadata": {},
   "outputs": [
    {
     "data": {
      "text/plain": [
       "['bathrooms',\n",
       " 'view_EXCELLENT',\n",
       " 'floors',\n",
       " 'grade_7_Average',\n",
       " 'grade_6_Low_Average',\n",
       " 'view_NONE']"
      ]
     },
     "execution_count": 16,
     "metadata": {},
     "output_type": "execute_result"
    }
   ],
   "source": [
    "items_to_drop.extend(['grade_7_Average', 'grade_6_Low_Average', 'view_NONE'])\n",
    "items_to_drop"
   ]
  },
  {
   "cell_type": "markdown",
   "metadata": {},
   "source": [
    "Now that we have checked for uninfluential features as well as features potentially causing multicollinearity, we run the tests again."
   ]
  },
  {
   "cell_type": "code",
   "execution_count": 17,
   "metadata": {
    "scrolled": false
   },
   "outputs": [
    {
     "name": "stderr",
     "output_type": "stream",
     "text": [
      "C:\\Users\\moola\\anaconda3\\lib\\site-packages\\statsmodels\\tsa\\tsatools.py:142: FutureWarning: In a future version of pandas all arguments of concat except for the argument 'objs' will be keyword-only\n",
      "  x = pd.concat(x[::order], 1)\n"
     ]
    },
    {
     "data": {
      "text/plain": [
       "0.5865411709780006"
      ]
     },
     "execution_count": 17,
     "metadata": {},
     "output_type": "execute_result"
    }
   ],
   "source": [
    "X_3 = X_2.drop(items_to_drop, axis=1)\n",
    "\n",
    "model_3_remove_corr = sm.OLS(y, sm.add_constant(X_3)).fit()\n",
    "model_3_remove_corr.rsquared"
   ]
  },
  {
   "cell_type": "markdown",
   "metadata": {},
   "source": [
    "This decreased out our R-squared value, which is not necessarily a problem. We will try a few more things before we compare each model's RMSE."
   ]
  },
  {
   "cell_type": "markdown",
   "metadata": {},
   "source": [
    "Before comparing all of our models ability to accurately predict data on the training and testing sets, we will create a feature set based on our observations in the preprocessing phase and create a model for it as well. We will try removing the categorical variables as well.\n",
    "\n",
    "We will look at the correlation between each feature and price from the preprocessed model as a guide."
   ]
  },
  {
   "cell_type": "code",
   "execution_count": 18,
   "metadata": {
    "scrolled": false
   },
   "outputs": [
    {
     "data": {
      "text/plain": [
       "price                  1.000000\n",
       "sqft_living            0.612307\n",
       "bathrooms              0.456159\n",
       "view_NONE              0.358317\n",
       "grade_11_Excellent     0.358260\n",
       "grade_7_Average        0.316746\n",
       "view_EXCELLENT         0.304676\n",
       "bedrooms               0.298957\n",
       "grade_12_Luxury        0.284766\n",
       "floors                 0.266977\n",
       "waterfront             0.259221\n",
       "grade_9_Better         0.237307\n",
       "grade_13_Mansion       0.212891\n",
       "grade_6_Low_Average    0.209958\n",
       "view_GOOD              0.183964\n",
       "has_basement           0.177574\n",
       "sqft_lot               0.161755\n",
       "renovated_2000         0.106630\n",
       "view_FAIR              0.093149\n",
       "grade_5_Fair           0.084907\n",
       "condition_Very_Good    0.057646\n",
       "yr_built               0.053036\n",
       "condition_Fair         0.051632\n",
       "condition_Good         0.031997\n",
       "grade_4_Low            0.031754\n",
       "condition_Poor         0.019962\n",
       "grade_3_Poor           0.005176\n",
       "grade_8_Good           0.005142\n",
       "Name: price, dtype: float64"
      ]
     },
     "execution_count": 18,
     "metadata": {},
     "output_type": "execute_result"
    }
   ],
   "source": [
    "#absolute values because negative correlation still counts\n",
    "price_corr = abs(df.corr()['price']).sort_values(ascending = False)\n",
    "price_corr"
   ]
  },
  {
   "cell_type": "code",
   "execution_count": 19,
   "metadata": {},
   "outputs": [
    {
     "data": {
      "text/html": [
       "<table class=\"simpletable\">\n",
       "<caption>OLS Regression Results</caption>\n",
       "<tr>\n",
       "  <th>Dep. Variable:</th>          <td>price</td>      <th>  R-squared:         </th>  <td>   0.546</td>  \n",
       "</tr>\n",
       "<tr>\n",
       "  <th>Model:</th>                   <td>OLS</td>       <th>  Adj. R-squared:    </th>  <td>   0.546</td>  \n",
       "</tr>\n",
       "<tr>\n",
       "  <th>Method:</th>             <td>Least Squares</td>  <th>  F-statistic:       </th>  <td>   1943.</td>  \n",
       "</tr>\n",
       "<tr>\n",
       "  <th>Date:</th>             <td>Thu, 12 May 2022</td> <th>  Prob (F-statistic):</th>   <td>  0.00</td>   \n",
       "</tr>\n",
       "<tr>\n",
       "  <th>Time:</th>                 <td>19:27:08</td>     <th>  Log-Likelihood:    </th> <td>-2.2342e+05</td>\n",
       "</tr>\n",
       "<tr>\n",
       "  <th>No. Observations:</th>      <td> 16149</td>      <th>  AIC:               </th>  <td>4.469e+05</td> \n",
       "</tr>\n",
       "<tr>\n",
       "  <th>Df Residuals:</th>          <td> 16138</td>      <th>  BIC:               </th>  <td>4.469e+05</td> \n",
       "</tr>\n",
       "<tr>\n",
       "  <th>Df Model:</th>              <td>    10</td>      <th>                     </th>      <td> </td>     \n",
       "</tr>\n",
       "<tr>\n",
       "  <th>Covariance Type:</th>      <td>nonrobust</td>    <th>                     </th>      <td> </td>     \n",
       "</tr>\n",
       "</table>\n",
       "<table class=\"simpletable\">\n",
       "<tr>\n",
       "           <td></td>             <th>coef</th>     <th>std err</th>      <th>t</th>      <th>P>|t|</th>  <th>[0.025</th>    <th>0.975]</th>  \n",
       "</tr>\n",
       "<tr>\n",
       "  <th>const</th>              <td> 6.901e+05</td> <td> 7159.992</td> <td>   96.388</td> <td> 0.000</td> <td> 6.76e+05</td> <td> 7.04e+05</td>\n",
       "</tr>\n",
       "<tr>\n",
       "  <th>sqft_living</th>        <td>  1.82e+05</td> <td> 3582.647</td> <td>   50.809</td> <td> 0.000</td> <td> 1.75e+05</td> <td> 1.89e+05</td>\n",
       "</tr>\n",
       "<tr>\n",
       "  <th>bathrooms</th>          <td>-5905.8362</td> <td> 3226.278</td> <td>   -1.831</td> <td> 0.067</td> <td>-1.22e+04</td> <td>  418.026</td>\n",
       "</tr>\n",
       "<tr>\n",
       "  <th>view_NONE</th>          <td>-1.589e+05</td> <td> 7358.669</td> <td>  -21.597</td> <td> 0.000</td> <td>-1.73e+05</td> <td>-1.44e+05</td>\n",
       "</tr>\n",
       "<tr>\n",
       "  <th>grade_11_Excellent</th> <td>  5.37e+05</td> <td> 1.54e+04</td> <td>   34.834</td> <td> 0.000</td> <td> 5.07e+05</td> <td> 5.67e+05</td>\n",
       "</tr>\n",
       "<tr>\n",
       "  <th>grade_7_Average</th>    <td>-7.014e+04</td> <td> 4331.541</td> <td>  -16.193</td> <td> 0.000</td> <td>-7.86e+04</td> <td>-6.17e+04</td>\n",
       "</tr>\n",
       "<tr>\n",
       "  <th>view_EXCELLENT</th>     <td> 2.815e+05</td> <td> 2.06e+04</td> <td>   13.658</td> <td> 0.000</td> <td> 2.41e+05</td> <td> 3.22e+05</td>\n",
       "</tr>\n",
       "<tr>\n",
       "  <th>bedrooms</th>           <td>-2.769e+04</td> <td> 2643.859</td> <td>  -10.475</td> <td> 0.000</td> <td>-3.29e+04</td> <td>-2.25e+04</td>\n",
       "</tr>\n",
       "<tr>\n",
       "  <th>grade_12_Luxury</th>    <td> 1.012e+06</td> <td> 2.98e+04</td> <td>   33.905</td> <td> 0.000</td> <td> 9.53e+05</td> <td> 1.07e+06</td>\n",
       "</tr>\n",
       "<tr>\n",
       "  <th>floors</th>             <td>  1.03e+04</td> <td> 2322.722</td> <td>    4.434</td> <td> 0.000</td> <td> 5746.275</td> <td> 1.49e+04</td>\n",
       "</tr>\n",
       "<tr>\n",
       "  <th>waterfront</th>         <td> 5.254e+05</td> <td> 2.84e+04</td> <td>   18.504</td> <td> 0.000</td> <td>  4.7e+05</td> <td> 5.81e+05</td>\n",
       "</tr>\n",
       "</table>\n",
       "<table class=\"simpletable\">\n",
       "<tr>\n",
       "  <th>Omnibus:</th>       <td>11743.658</td> <th>  Durbin-Watson:     </th>  <td>   1.986</td> \n",
       "</tr>\n",
       "<tr>\n",
       "  <th>Prob(Omnibus):</th>  <td> 0.000</td>   <th>  Jarque-Bera (JB):  </th> <td>705984.762</td>\n",
       "</tr>\n",
       "<tr>\n",
       "  <th>Skew:</th>           <td> 2.909</td>   <th>  Prob(JB):          </th>  <td>    0.00</td> \n",
       "</tr>\n",
       "<tr>\n",
       "  <th>Kurtosis:</th>       <td>34.865</td>   <th>  Cond. No.          </th>  <td>    26.2</td> \n",
       "</tr>\n",
       "</table><br/><br/>Notes:<br/>[1] Standard Errors assume that the covariance matrix of the errors is correctly specified."
      ],
      "text/plain": [
       "<class 'statsmodels.iolib.summary.Summary'>\n",
       "\"\"\"\n",
       "                            OLS Regression Results                            \n",
       "==============================================================================\n",
       "Dep. Variable:                  price   R-squared:                       0.546\n",
       "Model:                            OLS   Adj. R-squared:                  0.546\n",
       "Method:                 Least Squares   F-statistic:                     1943.\n",
       "Date:                Thu, 12 May 2022   Prob (F-statistic):               0.00\n",
       "Time:                        19:27:08   Log-Likelihood:            -2.2342e+05\n",
       "No. Observations:               16149   AIC:                         4.469e+05\n",
       "Df Residuals:                   16138   BIC:                         4.469e+05\n",
       "Df Model:                          10                                         \n",
       "Covariance Type:            nonrobust                                         \n",
       "======================================================================================\n",
       "                         coef    std err          t      P>|t|      [0.025      0.975]\n",
       "--------------------------------------------------------------------------------------\n",
       "const               6.901e+05   7159.992     96.388      0.000    6.76e+05    7.04e+05\n",
       "sqft_living          1.82e+05   3582.647     50.809      0.000    1.75e+05    1.89e+05\n",
       "bathrooms          -5905.8362   3226.278     -1.831      0.067   -1.22e+04     418.026\n",
       "view_NONE          -1.589e+05   7358.669    -21.597      0.000   -1.73e+05   -1.44e+05\n",
       "grade_11_Excellent   5.37e+05   1.54e+04     34.834      0.000    5.07e+05    5.67e+05\n",
       "grade_7_Average    -7.014e+04   4331.541    -16.193      0.000   -7.86e+04   -6.17e+04\n",
       "view_EXCELLENT      2.815e+05   2.06e+04     13.658      0.000    2.41e+05    3.22e+05\n",
       "bedrooms           -2.769e+04   2643.859    -10.475      0.000   -3.29e+04   -2.25e+04\n",
       "grade_12_Luxury     1.012e+06   2.98e+04     33.905      0.000    9.53e+05    1.07e+06\n",
       "floors               1.03e+04   2322.722      4.434      0.000    5746.275    1.49e+04\n",
       "waterfront          5.254e+05   2.84e+04     18.504      0.000     4.7e+05    5.81e+05\n",
       "==============================================================================\n",
       "Omnibus:                    11743.658   Durbin-Watson:                   1.986\n",
       "Prob(Omnibus):                  0.000   Jarque-Bera (JB):           705984.762\n",
       "Skew:                           2.909   Prob(JB):                         0.00\n",
       "Kurtosis:                      34.865   Cond. No.                         26.2\n",
       "==============================================================================\n",
       "\n",
       "Notes:\n",
       "[1] Standard Errors assume that the covariance matrix of the errors is correctly specified.\n",
       "\"\"\""
      ]
     },
     "execution_count": 19,
     "metadata": {},
     "output_type": "execute_result"
    }
   ],
   "source": [
    "#just take the top correlated features with price\n",
    "observed_features = price_corr.index[1:11]\n",
    "\n",
    "X_4 = X_train[observed_features]\n",
    "\n",
    "model_4_price_corr = sm.OLS(y, sm.add_constant(X_4)).fit()\n",
    "model_4_price_corr.summary()"
   ]
  },
  {
   "cell_type": "markdown",
   "metadata": {},
   "source": [
    "## Evaluating Models\n",
    "Next we will compare the RMSE for models from each set of features we explored, on both the training and testing data.\n",
    "\n",
    "The RMSE, or Root Mean Squared Error, is a measure of how far off our regression models are from the actual values they attempt to predict. The lower the RMSE, the better at predicting prices the trained model is."
   ]
  },
  {
   "cell_type": "code",
   "execution_count": 20,
   "metadata": {},
   "outputs": [],
   "source": [
    "#training linear regression models on the training set for each set of features\n",
    "\n",
    "#X_1\n",
    "#train model\n",
    "model1 = LinearRegression().fit(X_1, y_train)\n",
    "#predict on model\n",
    "pred1 = model1.predict(X_1)\n",
    "#rmse for training set\n",
    "train1_rmse = mean_squared_error(y_train, pred1, squared=False)\n",
    "\n",
    "#create test set of features\n",
    "X_1_test = X_test[X_1.columns]\n",
    "#predict on test feature set\n",
    "pred1_test = model1.predict(X_1_test)\n",
    "#rmse for test set\n",
    "test1_rmse = mean_squared_error(y_test, pred1_test, squared=False)\n",
    "\n",
    "#X_2\n",
    "model2 = LinearRegression().fit(X_2, y_train)\n",
    "pred2 = model2.predict(X_2)\n",
    "train2_rmse = mean_squared_error(y_train, pred2, squared=False)\n",
    "\n",
    "X_2_test = X_test[X_2.columns]\n",
    "pred2_test = model2.predict(X_2_test)\n",
    "test2_rmse = mean_squared_error(y_test, pred2_test, squared=False)\n",
    "\n",
    "#X_3\n",
    "model3 = LinearRegression().fit(X_3, y_train)\n",
    "pred3 = model3.predict(X_3)\n",
    "train3_rmse = mean_squared_error(y_train, pred3, squared=False)\n",
    "\n",
    "X_3_test = X_test[X_3.columns]\n",
    "pred3_test = model3.predict(X_3_test)\n",
    "test3_rmse = mean_squared_error(y_test, pred3_test, squared=False)\n",
    "\n",
    "#X_4\n",
    "model4 = LinearRegression().fit(X_4, y_train)\n",
    "pred4 = model4.predict(X_4)\n",
    "train4_rmse = mean_squared_error(y_train, pred4, squared=False)\n",
    "\n",
    "X_4_test = X_test[X_4.columns]\n",
    "pred4_test = model4.predict(X_4_test)\n",
    "test4_rmse = mean_squared_error(y_test, pred4_test, squared=False)\n"
   ]
  },
  {
   "cell_type": "code",
   "execution_count": 21,
   "metadata": {},
   "outputs": [
    {
     "name": "stdout",
     "output_type": "stream",
     "text": [
      "Model 1 - Original:\n",
      "  Training Data RMSE:  212076.92880356143\n",
      "  Test Data RMSE:  213088.73756681813\n",
      "\n",
      "Model 2 - Removed Uninfluential:\n",
      "  Training Data RMSE:  212085.55990626023\n",
      "  Test Data RMSE:  213078.79235254464\n",
      "\n",
      "Model 3 - Removed Collinear:\n",
      "  Training Data RMSE:  235510.2848500906\n",
      "  Test Data RMSE:  236184.0645740857\n",
      "\n",
      "Model 4 - Based On Observations:\n",
      "  Training Data RMSE:  246708.745805667\n",
      "  Test Data RMSE:  257412.2197770571\n"
     ]
    }
   ],
   "source": [
    "print('Model 1 - Original:')\n",
    "print('  Training Data RMSE: ',train1_rmse)\n",
    "print('  Test Data RMSE: ',test1_rmse)\n",
    "print()\n",
    "print('Model 2 - Removed Uninfluential:')\n",
    "print('  Training Data RMSE: ',train2_rmse)\n",
    "print('  Test Data RMSE: ',test2_rmse)\n",
    "print()\n",
    "print('Model 3 - Removed Collinear:')\n",
    "print('  Training Data RMSE: ',train3_rmse)\n",
    "print('  Test Data RMSE: ',test3_rmse)\n",
    "print()\n",
    "print('Model 4 - Based On Observations:')\n",
    "print('  Training Data RMSE: ',train4_rmse)\n",
    "print('  Test Data RMSE: ',test4_rmse)\n"
   ]
  },
  {
   "cell_type": "markdown",
   "metadata": {},
   "source": [
    "While it is only by a small amount, our second model performed the best with the test data, at about a 213,708 RMSE. "
   ]
  },
  {
   "cell_type": "markdown",
   "metadata": {},
   "source": [
    "## Final Model Interpretation"
   ]
  },
  {
   "cell_type": "code",
   "execution_count": 22,
   "metadata": {},
   "outputs": [],
   "source": [
    "X_train_final = X_2\n",
    "X_test_final = X_2_test"
   ]
  },
  {
   "cell_type": "code",
   "execution_count": 23,
   "metadata": {},
   "outputs": [
    {
     "data": {
      "text/plain": [
       "0.6600908961075089"
      ]
     },
     "execution_count": 23,
     "metadata": {},
     "output_type": "execute_result"
    }
   ],
   "source": [
    "final_model = model2\n",
    "final_model.score(X_test_final, y_test)"
   ]
  },
  {
   "cell_type": "markdown",
   "metadata": {},
   "source": [
    "The final model's score indicates that it is accurate about 66% of the time.\n",
    "\n",
    "Next we investigate if our model violates each of the assumptions of linear regression:"
   ]
  },
  {
   "cell_type": "markdown",
   "metadata": {},
   "source": [
    "### Linearity"
   ]
  },
  {
   "cell_type": "code",
   "execution_count": 24,
   "metadata": {},
   "outputs": [],
   "source": [
    "sns.set(rc = {'figure.figsize':(5,5)})"
   ]
  },
  {
   "cell_type": "code",
   "execution_count": 25,
   "metadata": {
    "scrolled": false
   },
   "outputs": [
    {
     "data": {
      "text/plain": [
       "Text(0, 0.5, 'Predicted Value')"
      ]
     },
     "execution_count": 25,
     "metadata": {},
     "output_type": "execute_result"
    },
    {
     "data": {
      "image/png": "[encoded data removed]",
      "text/plain": [
       "<Figure size 360x360 with 1 Axes>"
      ]
     },
     "metadata": {},
     "output_type": "display_data"
    }
   ],
   "source": [
    "preds = final_model.predict(X_test_final)\n",
    "fig, ax = plt.subplots()\n",
    "\n",
    "perfect_line = np.arange(y_test.min(), y_test.max())\n",
    "ax.scatter(y_test, preds, alpha=0.5)\n",
    "ax.set_xlabel(\"Actual Value\")\n",
    "ax.set_ylabel(\"Predicted Value\")"
   ]
  },
  {
   "cell_type": "markdown",
   "metadata": {},
   "source": [
    "This actually looks like it has a decently linear relationship, with only a few noteable outliers."
   ]
  },
  {
   "cell_type": "markdown",
   "metadata": {},
   "source": [
    "### Normality"
   ]
  },
  {
   "cell_type": "code",
   "execution_count": 26,
   "metadata": {
    "scrolled": false
   },
   "outputs": [
    {
     "name": "stderr",
     "output_type": "stream",
     "text": [
      "C:\\Users\\moola\\anaconda3\\lib\\site-packages\\statsmodels\\graphics\\gofplots.py:993: UserWarning: marker is redundantly defined by the 'marker' keyword argument and the fmt string \"bo\" (-> marker='o'). The keyword argument will take precedence.\n",
      "  ax.plot(x, y, fmt, **plot_style)\n"
     ]
    },
    {
     "data": {
      "image/png": "[encoded data removed]",
      "text/plain": [
       "<Figure size 360x360 with 1 Axes>"
      ]
     },
     "metadata": {},
     "output_type": "display_data"
    }
   ],
   "source": [
    "residuals = (y_test - preds)\n",
    "sm.graphics.qqplot(residuals, dist=stats.norm, line='45', fit=True);"
   ]
  },
  {
   "cell_type": "markdown",
   "metadata": {},
   "source": [
    "With the exception of some outliers, this plot does look relatively normal."
   ]
  },
  {
   "cell_type": "markdown",
   "metadata": {},
   "source": [
    "### Multicollinearity\n",
    "We already made sure that our model did not violate multicollinearity by removing features in the modeling phase. But we check again in the interest of good practice."
   ]
  },
  {
   "cell_type": "code",
   "execution_count": 27,
   "metadata": {
    "scrolled": false
   },
   "outputs": [
    {
     "data": {
      "text/plain": [
       "sqft_living             5.137212\n",
       "sqft_lot                1.575694\n",
       "yr_built                2.001872\n",
       "bedrooms                1.886433\n",
       "bathrooms               3.510120\n",
       "floors                  2.166562\n",
       "renovated_2000          1.084002\n",
       "waterfront              1.519392\n",
       "has_basement            2.437871\n",
       "view_EXCELLENT          1.673145\n",
       "view_FAIR               1.179823\n",
       "view_GOOD               1.249940\n",
       "view_NONE              12.379873\n",
       "grade_11_Excellent      1.219326\n",
       "grade_12_Luxury         1.086037\n",
       "grade_13_Mansion        1.017588\n",
       "grade_4_Low             1.052859\n",
       "grade_5_Fair            1.332819\n",
       "grade_6_Low_Average     3.210529\n",
       "grade_7_Average         7.760170\n",
       "grade_8_Good            4.468256\n",
       "grade_9_Better          2.251665\n",
       "condition_Good          1.638350\n",
       "condition_Very_Good     1.280188\n",
       "Name: Variance Inflation Factor, dtype: float64"
      ]
     },
     "execution_count": 27,
     "metadata": {},
     "output_type": "execute_result"
    }
   ],
   "source": [
    "vif = [variance_inflation_factor(X_train_final.values, i) for i in range(X_train_final.shape[1])]\n",
    "\n",
    "pd.Series(vif, index=X_train_final.columns, name=\"Variance Inflation Factor\")"
   ]
  },
  {
   "cell_type": "markdown",
   "metadata": {},
   "source": [
    "A feature with a vif above 5 generally points to it's strong influence on the multicollinearity opf the model. Someo of these features, however, can be explained by the fact that they are dummy variables of the categorical pieces of data from the preprocessing set. We will quickly test the RMSE of a similar model without these features."
   ]
  },
  {
   "cell_type": "code",
   "execution_count": 28,
   "metadata": {},
   "outputs": [
    {
     "data": {
      "text/plain": [
       "247670.19591908524"
      ]
     },
     "execution_count": 28,
     "metadata": {},
     "output_type": "execute_result"
    }
   ],
   "source": [
    "hi_vif = ['view_NONE', 'sqft_living', 'grade_7_Average']\n",
    "\n",
    "train_removed_vif = X_train_final.drop(hi_vif, axis=1)\n",
    "test_removed_vif = X_test_final.drop(hi_vif, axis=1)\n",
    "\n",
    "vif_removed = LinearRegression()\n",
    "\n",
    "# Fit the model on X_train_final and y_train\n",
    "vif_removed.fit(train_removed_vif, y_train)\n",
    "\n",
    "vif_test = vif_removed.predict(test_removed_vif)\n",
    "mean_squared_error(y_test, vif_test, squared=False)"
   ]
  },
  {
   "cell_type": "markdown",
   "metadata": {},
   "source": [
    "Unfortunately, after testing this (in a few configurations), removing these high vif features only increases the RMSE."
   ]
  },
  {
   "cell_type": "markdown",
   "metadata": {},
   "source": [
    "### Homoscedasticity"
   ]
  },
  {
   "cell_type": "code",
   "execution_count": 29,
   "metadata": {},
   "outputs": [
    {
     "data": {
      "image/png": "[encoded data removed]",
      "text/plain": [
       "<Figure size 360x360 with 1 Axes>"
      ]
     },
     "metadata": {},
     "output_type": "display_data"
    }
   ],
   "source": [
    "fig, ax = plt.subplots()\n",
    "\n",
    "ax.scatter(preds, residuals, alpha=0.5)\n",
    "ax.plot(preds, [0 for i in range(len(X_test_final))])\n",
    "ax.set_xlabel(\"Predicted Value\")\n",
    "ax.set_ylabel(\"Actual - Predicted Value\");"
   ]
  },
  {
   "cell_type": "markdown",
   "metadata": {},
   "source": [
    "Our model does not show the strongest homoscedacity, but it could be worse."
   ]
  },
  {
   "cell_type": "markdown",
   "metadata": {},
   "source": [
    "## Conclusions"
   ]
  },
  {
   "cell_type": "markdown",
   "metadata": {},
   "source": [
    "This linear regression model certainly be used as a baseline predictor for assessing the value of homes in King County."
   ]
  },
  {
   "cell_type": "code",
   "execution_count": 30,
   "metadata": {
    "scrolled": false
   },
   "outputs": [
    {
     "name": "stdout",
     "output_type": "stream",
     "text": [
      "sqft_living            101414.772\n",
      "sqft_lot               -26530.229\n",
      "yr_built               -84733.121\n",
      "bedrooms               -16262.693\n",
      "bathrooms               22846.804\n",
      "floors                  11790.291\n",
      "renovated_2000         107344.256\n",
      "waterfront             571848.741\n",
      "has_basement            18945.643\n",
      "view_EXCELLENT         233262.921\n",
      "view_FAIR               69429.326\n",
      "view_GOOD               40540.435\n",
      "view_NONE              -69349.403\n",
      "grade_11_Excellent     364974.794\n",
      "grade_12_Luxury        905721.578\n",
      "grade_13_Mansion      1853454.022\n",
      "grade_4_Low           -550193.382\n",
      "grade_5_Fair          -612049.528\n",
      "grade_6_Low_Average   -567311.303\n",
      "grade_7_Average       -508177.626\n",
      "grade_8_Good          -410406.099\n",
      "grade_9_Better        -231280.835\n",
      "condition_Good          21372.995\n",
      "condition_Very_Good     63734.593\n",
      "Name: Coefficients, dtype: float64\n",
      "\n",
      "Intercept: 976799.8626872399\n"
     ]
    }
   ],
   "source": [
    "pd.set_option('display.float_format', lambda x: '%.3f' % x)\n",
    "\n",
    "print(pd.Series(final_model.coef_, index=X_train_final.columns, name=\"Coefficients\"))\n",
    "print()\n",
    "print(\"Intercept:\", final_model.intercept_)"
   ]
  },
  {
   "cell_type": "markdown",
   "metadata": {},
   "source": [
    "### Interpretation"
   ]
  },
  {
   "cell_type": "markdown",
   "metadata": {},
   "source": [
    "The above shows how our model uses each feature to make determinations about the target price. \n",
    "\n",
    "The intercept is 976,799, which is the base value our model assumes each house is worth. Positive coefficients on features indicate the value each unit of that feature adds to the value, and negative coefficients indicate a decrease in house value due to that feature.\n",
    "\n",
    "An example of a strongly positive coefficient is (unsurprisingly) square footage, with a coef of 101414. This means that the model predicts that with every unit of square footage, value should go up by $101,414. This holds true to common assumptions of what would be of value in a house. \n",
    "\n",
    "However, there also is a negative coefficient for features like bedrooms (with a coef of -16,262, meaning that every bedroom subtracts $16000 of value). This could be due to errors in the way our model was trained, or some inherent issues in the way that the modeling process works. "
   ]
  },
  {
   "cell_type": "markdown",
   "metadata": {},
   "source": [
    "### Next Steps\n",
    "The reality is that there is a very broad range of factors that can influence any individual house sale. That being said, there are a multitude of ways we could explore futher. We could attempt to use the dataset where we converted some of the catgeorical variables into numerical scores. Or we could seek out additional outliers that may be negatively impacting our data. \n",
    "\n",
    "Furthermore, features like rating, view, and condition could use more exploration, since they are based on arbitrary human concepts. Features like whether or not a house was renovated, or even when it was renovated, also don't necessarily hold value if the type of renovations remain unknown. \n",
    "\n",
    "All in all, the model is a decent start to assess house cost, and could be used by the new real estate company to develop a baseling understanding. With additional reseaerch into more particulars of the data, and perhaps another investigation into houses based solely on location, the company could create an even more precise model."
   ]
  }
 ],
 "metadata": {
  "kernelspec": {
   "display_name": "Python 3 (ipykernel)",
   "language": "python",
   "name": "python3"
  },
  "language_info": {
   "codemirror_mode": {
    "name": "ipython",
    "version": 3
   },
   "file_extension": ".py",
   "mimetype": "text/x-python",
   "name": "python",
   "nbconvert_exporter": "python",
   "pygments_lexer": "ipython3",
   "version": "3.9.7"
  }
 },
 "nbformat": 4,
 "nbformat_minor": 2
}
