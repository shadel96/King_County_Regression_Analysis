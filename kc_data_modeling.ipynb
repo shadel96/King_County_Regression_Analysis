{
 "cells": [
  {
   "cell_type": "markdown",
   "metadata": {},
   "source": [
    "# King County House Sales Regression Analysis\n",
    "## Data Modeling"
   ]
  },
  {
   "cell_type": "markdown",
   "metadata": {},
   "source": [
    "* Student name: Spencer Hadel\n",
    "* Student pace: Flex\n",
    "* Scheduled project review date/time: 6/5/2022, 11:00am EST\n",
    "* Instructor name: Claude Fried"
   ]
  },
  {
   "cell_type": "markdown",
   "metadata": {},
   "source": [
    "### Import Modules"
   ]
  },
  {
   "cell_type": "code",
   "execution_count": 2,
   "metadata": {},
   "outputs": [],
   "source": [
    "import pandas as pd\n",
    "import matplotlib.pyplot as plt\n",
    "import numpy as np\n",
    "import seaborn as sns\n",
    "\n",
    "from statsmodels.formula.api import ols\n",
    "from statsmodels.stats.outliers_influence import variance_inflation_factor\n",
    "import statsmodels.api as sm\n",
    "import scipy.stats as stats\n",
    "from sklearn.model_selection import train_test_split"
   ]
  },
  {
   "cell_type": "markdown",
   "metadata": {},
   "source": [
    "### Import Prepared Data from kc_preprocessing_exploring.ipynb"
   ]
  },
  {
   "cell_type": "markdown",
   "metadata": {},
   "source": [
    "We have already preprocessed our data in the kc_kc_preprocessing_exploring notebook:\n",
    "\n",
    "[Preprocessing Notebook](./kc_preprocessing_exploring.ipynb)"
   ]
  },
  {
   "cell_type": "code",
   "execution_count": 3,
   "metadata": {},
   "outputs": [],
   "source": [
    "df = pd.read_csv('./data/preprocessed.csv', index_col = 0)"
   ]
  },
  {
   "cell_type": "code",
   "execution_count": 4,
   "metadata": {
    "scrolled": false
   },
   "outputs": [
    {
     "name": "stdout",
     "output_type": "stream",
     "text": [
      "<class 'pandas.core.frame.DataFrame'>\n",
      "Int64Index: 43068 entries, 0 to 21596\n",
      "Data columns (total 68 columns):\n",
      " #   Column               Non-Null Count  Dtype  \n",
      "---  ------               --------------  -----  \n",
      " 0   price                21534 non-null  float64\n",
      " 1   sqft_living          21534 non-null  float64\n",
      " 2   sqft_lot             21534 non-null  float64\n",
      " 3   yr_built             21534 non-null  float64\n",
      " 4   bedrooms_10          21534 non-null  float64\n",
      " 5   bedrooms_11          21534 non-null  float64\n",
      " 6   bedrooms_2           21534 non-null  float64\n",
      " 7   bedrooms_3           21534 non-null  float64\n",
      " 8   bedrooms_33          21534 non-null  float64\n",
      " 9   bedrooms_4           21534 non-null  float64\n",
      " 10  bedrooms_5           21534 non-null  float64\n",
      " 11  bedrooms_6           21534 non-null  float64\n",
      " 12  bedrooms_7           21534 non-null  float64\n",
      " 13  bedrooms_8           21534 non-null  float64\n",
      " 14  bedrooms_9           21534 non-null  float64\n",
      " 15  bathrooms_0.75       21534 non-null  float64\n",
      " 16  bathrooms_1.0        21534 non-null  float64\n",
      " 17  bathrooms_1.25       21534 non-null  float64\n",
      " 18  bathrooms_1.5        21534 non-null  float64\n",
      " 19  bathrooms_1.75       21534 non-null  float64\n",
      " 20  bathrooms_2.0        21534 non-null  float64\n",
      " 21  bathrooms_2.25       21534 non-null  float64\n",
      " 22  bathrooms_2.5        21534 non-null  float64\n",
      " 23  bathrooms_2.75       21534 non-null  float64\n",
      " 24  bathrooms_3.0        21534 non-null  float64\n",
      " 25  bathrooms_3.25       21534 non-null  float64\n",
      " 26  bathrooms_3.5        21534 non-null  float64\n",
      " 27  bathrooms_3.75       21534 non-null  float64\n",
      " 28  bathrooms_4.0        21534 non-null  float64\n",
      " 29  bathrooms_4.25       21534 non-null  float64\n",
      " 30  bathrooms_4.5        21534 non-null  float64\n",
      " 31  bathrooms_4.75       21534 non-null  float64\n",
      " 32  bathrooms_5.0        21534 non-null  float64\n",
      " 33  bathrooms_5.25       21534 non-null  float64\n",
      " 34  bathrooms_5.5        21534 non-null  float64\n",
      " 35  bathrooms_5.75       21534 non-null  float64\n",
      " 36  bathrooms_6.0        21534 non-null  float64\n",
      " 37  bathrooms_6.25       21534 non-null  float64\n",
      " 38  bathrooms_6.5        21534 non-null  float64\n",
      " 39  bathrooms_6.75       21534 non-null  float64\n",
      " 40  bathrooms_7.5        21534 non-null  float64\n",
      " 41  bathrooms_7.75       21534 non-null  float64\n",
      " 42  bathrooms_8.0        21534 non-null  float64\n",
      " 43  floors_1.5           21534 non-null  float64\n",
      " 44  floors_2.0           21534 non-null  float64\n",
      " 45  floors_2.5           21534 non-null  float64\n",
      " 46  floors_3.0           21534 non-null  float64\n",
      " 47  floors_3.5           21534 non-null  float64\n",
      " 48  renovated_2000_1     21534 non-null  float64\n",
      " 49  grade_11 Excellent   21534 non-null  float64\n",
      " 50  grade_12 Luxury      21534 non-null  float64\n",
      " 51  grade_13 Mansion     21534 non-null  float64\n",
      " 52  grade_3 Poor         21534 non-null  float64\n",
      " 53  grade_4 Low          21534 non-null  float64\n",
      " 54  grade_5 Fair         21534 non-null  float64\n",
      " 55  grade_6 Low Average  21534 non-null  float64\n",
      " 56  grade_7 Average      21534 non-null  float64\n",
      " 57  grade_8 Good         21534 non-null  float64\n",
      " 58  grade_9 Better       21534 non-null  float64\n",
      " 59  condition_Fair       21534 non-null  float64\n",
      " 60  condition_Good       21534 non-null  float64\n",
      " 61  condition_Poor       21534 non-null  float64\n",
      " 62  condition_Very Good  21534 non-null  float64\n",
      " 63  view_EXCELLENT       21534 non-null  float64\n",
      " 64  view_FAIR            21534 non-null  float64\n",
      " 65  view_GOOD            21534 non-null  float64\n",
      " 66  view_NONE            21534 non-null  float64\n",
      " 67  waterfront_YES       21534 non-null  float64\n",
      "dtypes: float64(68)\n",
      "memory usage: 22.7 MB\n"
     ]
    }
   ],
   "source": [
    "df.info()"
   ]
  },
  {
   "cell_type": "code",
   "execution_count": null,
   "metadata": {},
   "outputs": [],
   "source": []
  },
  {
   "cell_type": "markdown",
   "metadata": {},
   "source": [
    "## Split Train and Test Data\n",
    "\n",
    "Now that we have a complete preprocessed dataset, we need to split the data into train and test datasets. "
   ]
  },
  {
   "cell_type": "code",
   "execution_count": null,
   "metadata": {},
   "outputs": [],
   "source": [
    "#split data"
   ]
  },
  {
   "cell_type": "code",
   "execution_count": 13,
   "metadata": {},
   "outputs": [],
   "source": [
    "#ols"
   ]
  },
  {
   "cell_type": "code",
   "execution_count": 15,
   "metadata": {},
   "outputs": [],
   "source": [
    "#correlation heatmap"
   ]
  },
  {
   "cell_type": "code",
   "execution_count": null,
   "metadata": {},
   "outputs": [],
   "source": []
  },
  {
   "cell_type": "code",
   "execution_count": null,
   "metadata": {},
   "outputs": [],
   "source": []
  },
  {
   "cell_type": "code",
   "execution_count": null,
   "metadata": {},
   "outputs": [],
   "source": []
  }
 ],
 "metadata": {
  "kernelspec": {
   "display_name": "Python 3",
   "language": "python",
   "name": "python3"
  },
  "language_info": {
   "codemirror_mode": {
    "name": "ipython",
    "version": 3
   },
   "file_extension": ".py",
   "mimetype": "text/x-python",
   "name": "python",
   "nbconvert_exporter": "python",
   "pygments_lexer": "ipython3",
   "version": "3.8.5"
  }
 },
 "nbformat": 4,
 "nbformat_minor": 2
}
